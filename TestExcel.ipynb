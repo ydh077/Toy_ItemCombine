{
 "cells": [
  {
   "cell_type": "markdown",
   "metadata": {},
   "source": [
    "# Excel 정제 테스트\n",
    "## 목표 : 형식이 갖춰진 Excel 파일을 정제되게 만듬."
   ]
  },
  {
   "cell_type": "code",
   "execution_count": 6,
   "metadata": {},
   "outputs": [],
   "source": [
    "import pandas as pd\n",
    "import xlrd"
   ]
  },
  {
   "cell_type": "code",
   "execution_count": 11,
   "metadata": {},
   "outputs": [
    {
     "data": {
      "text/plain": [
       "['The World RPG Season4 조합법',\n",
       " '무기',\n",
       " '투구(후드)',\n",
       " '갑옷(로브)',\n",
       " '악세사리',\n",
       " '망토(날개, 부츠)',\n",
       " '기타',\n",
       " '아이콘',\n",
       " '4대왕↑ 드랍율',\n",
       " '힘 템트리',\n",
       " '민 템트리',\n",
       " '지 템트리']"
      ]
     },
     "execution_count": 11,
     "metadata": {},
     "output_type": "execute_result"
    }
   ],
   "source": [
    "import xlrd\n",
    "xls = xlrd.open_workbook(dirPath, on_demand=True)\n",
    "xls.sheet_names() # <- remeber: xlrd sheet_names is a function, not a property"
   ]
  },
  {
   "cell_type": "code",
   "execution_count": 253,
   "metadata": {},
   "outputs": [
    {
     "data": {
      "text/plain": [
       "['The World RPG Season4 조합법',\n",
       " '무기',\n",
       " '투구(후드)',\n",
       " '갑옷(로브)',\n",
       " '악세사리',\n",
       " '망토(날개, 부츠)',\n",
       " '기타',\n",
       " '아이콘',\n",
       " '4대왕↑ 드랍율',\n",
       " '힘 템트리',\n",
       " '민 템트리',\n",
       " '지 템트리']"
      ]
     },
     "execution_count": 253,
     "metadata": {},
     "output_type": "execute_result"
    }
   ],
   "source": [
    "import xlrd\n",
    "dirPath = './data/'\n",
    "fileName = '0.31g.xlsx'\n",
    "def getSheetNames(dirPath, fileName):\n",
    "    FullPath = dirPath + fileName\n",
    "    xls = xlrd.open_workbook(FullPath, on_demand=True)\n",
    "    return xls.sheet_names() # <- remeber: xlrd sheet_names is a function, not a property\n",
    "getSheetNames(dirPath, fileName)"
   ]
  },
  {
   "cell_type": "markdown",
   "metadata": {},
   "source": [
    "## 속성\n",
    "- 완제품 > 템이름, 렙제, 등급, 속성, 옵션, 드랍몬스터\n",
    "- 조  합  > 템이름, 렙제, 등급, 속성, 옵션, 조합법"
   ]
  },
  {
   "cell_type": "markdown",
   "metadata": {},
   "source": [
    "1. 컬럼기준을 잡고 조정을 가한다.\n",
    "    - B열에 들어가는 이름들중 '완제품' 이란 단어가 들어가면 dict의 이름\n",
    "    - I 열에 들어가는 이름에 "
   ]
  },
  {
   "cell_type": "code",
   "execution_count": 18,
   "metadata": {},
   "outputs": [],
   "source": [
    "dirPath = './data/0.31g.xlsx'\n",
    "# df = pd.read_excel(dirPath, sheet_name='투구(후드)')\n",
    "df = pd.read_excel(dirPath, sheet_name=2)\n",
    "\n",
    "# df.keys()\n",
    "# pd.ExcelFile(dirPath)"
   ]
  },
  {
   "cell_type": "code",
   "execution_count": 38,
   "metadata": {},
   "outputs": [
    {
     "data": {
      "text/plain": [
       "(102, 14)"
      ]
     },
     "execution_count": 38,
     "metadata": {},
     "output_type": "execute_result"
    }
   ],
   "source": [
    "df.shape"
   ]
  },
  {
   "cell_type": "code",
   "execution_count": 20,
   "metadata": {},
   "outputs": [
    {
     "data": {
      "text/html": [
       "<div>\n",
       "<style scoped>\n",
       "    .dataframe tbody tr th:only-of-type {\n",
       "        vertical-align: middle;\n",
       "    }\n",
       "\n",
       "    .dataframe tbody tr th {\n",
       "        vertical-align: top;\n",
       "    }\n",
       "\n",
       "    .dataframe thead th {\n",
       "        text-align: right;\n",
       "    }\n",
       "</style>\n",
       "<table border=\"1\" class=\"dataframe\">\n",
       "  <thead>\n",
       "    <tr style=\"text-align: right;\">\n",
       "      <th></th>\n",
       "      <th>Unnamed: 0</th>\n",
       "      <th>Unnamed: 1</th>\n",
       "      <th>Unnamed: 2</th>\n",
       "      <th>Unnamed: 3</th>\n",
       "      <th>Unnamed: 4</th>\n",
       "      <th>Unnamed: 5</th>\n",
       "      <th>Unnamed: 6</th>\n",
       "      <th>Unnamed: 7</th>\n",
       "      <th>Unnamed: 8</th>\n",
       "      <th>Unnamed: 9</th>\n",
       "      <th>Unnamed: 10</th>\n",
       "      <th>Unnamed: 11</th>\n",
       "      <th>Unnamed: 12</th>\n",
       "      <th>Unnamed: 13</th>\n",
       "    </tr>\n",
       "  </thead>\n",
       "  <tbody>\n",
       "    <tr>\n",
       "      <th>0</th>\n",
       "      <td>NaN</td>\n",
       "      <td>투구(후드) 아이템 완제 및 조합</td>\n",
       "      <td>NaN</td>\n",
       "      <td>NaN</td>\n",
       "      <td>NaN</td>\n",
       "      <td>NaN</td>\n",
       "      <td>NaN</td>\n",
       "      <td>NaN</td>\n",
       "      <td>NaN</td>\n",
       "      <td>NaN</td>\n",
       "      <td>NaN</td>\n",
       "      <td>NaN</td>\n",
       "      <td>NaN</td>\n",
       "      <td>NaN</td>\n",
       "    </tr>\n",
       "    <tr>\n",
       "      <th>1</th>\n",
       "      <td>NaN</td>\n",
       "      <td>NaN</td>\n",
       "      <td>NaN</td>\n",
       "      <td>NaN</td>\n",
       "      <td>NaN</td>\n",
       "      <td>NaN</td>\n",
       "      <td>NaN</td>\n",
       "      <td>NaN</td>\n",
       "      <td>NaN</td>\n",
       "      <td>NaN</td>\n",
       "      <td>NaN</td>\n",
       "      <td>NaN</td>\n",
       "      <td>NaN</td>\n",
       "      <td>NaN</td>\n",
       "    </tr>\n",
       "    <tr>\n",
       "      <th>2</th>\n",
       "      <td>NaN</td>\n",
       "      <td>Perfect Rare 완제품</td>\n",
       "      <td>NaN</td>\n",
       "      <td>NaN</td>\n",
       "      <td>NaN</td>\n",
       "      <td>NaN</td>\n",
       "      <td>NaN</td>\n",
       "      <td>NaN</td>\n",
       "      <td>Perfect Rare</td>\n",
       "      <td>NaN</td>\n",
       "      <td>NaN</td>\n",
       "      <td>NaN</td>\n",
       "      <td>NaN</td>\n",
       "      <td>NaN</td>\n",
       "    </tr>\n",
       "    <tr>\n",
       "      <th>3</th>\n",
       "      <td>NaN</td>\n",
       "      <td>NaN</td>\n",
       "      <td>NaN</td>\n",
       "      <td>NaN</td>\n",
       "      <td>NaN</td>\n",
       "      <td>NaN</td>\n",
       "      <td>NaN</td>\n",
       "      <td>NaN</td>\n",
       "      <td>NaN</td>\n",
       "      <td>NaN</td>\n",
       "      <td>NaN</td>\n",
       "      <td>NaN</td>\n",
       "      <td>NaN</td>\n",
       "      <td>NaN</td>\n",
       "    </tr>\n",
       "    <tr>\n",
       "      <th>4</th>\n",
       "      <td>NaN</td>\n",
       "      <td>아이템</td>\n",
       "      <td>렙제</td>\n",
       "      <td>등급</td>\n",
       "      <td>속성</td>\n",
       "      <td>옵션</td>\n",
       "      <td>드랍 몬스터</td>\n",
       "      <td>NaN</td>\n",
       "      <td>NaN</td>\n",
       "      <td>NaN</td>\n",
       "      <td>NaN</td>\n",
       "      <td>NaN</td>\n",
       "      <td>NaN</td>\n",
       "      <td>NaN</td>\n",
       "    </tr>\n",
       "    <tr>\n",
       "      <th>5</th>\n",
       "      <td>NaN</td>\n",
       "      <td>글래시어 가드</td>\n",
       "      <td>150</td>\n",
       "      <td>Perfect Rare</td>\n",
       "      <td>투구</td>\n",
       "      <td>방어 +180\\n힘 +100\\n민첩 +85\\n피격시 확률로 주변 적을 빙결</td>\n",
       "      <td>매머드</td>\n",
       "      <td>NaN</td>\n",
       "      <td>NaN</td>\n",
       "      <td>NaN</td>\n",
       "      <td>NaN</td>\n",
       "      <td>NaN</td>\n",
       "      <td>NaN</td>\n",
       "      <td>NaN</td>\n",
       "    </tr>\n",
       "    <tr>\n",
       "      <th>6</th>\n",
       "      <td>NaN</td>\n",
       "      <td>NaN</td>\n",
       "      <td>NaN</td>\n",
       "      <td>NaN</td>\n",
       "      <td>NaN</td>\n",
       "      <td>NaN</td>\n",
       "      <td>NaN</td>\n",
       "      <td>NaN</td>\n",
       "      <td>NaN</td>\n",
       "      <td>NaN</td>\n",
       "      <td>NaN</td>\n",
       "      <td>NaN</td>\n",
       "      <td>NaN</td>\n",
       "      <td>NaN</td>\n",
       "    </tr>\n",
       "    <tr>\n",
       "      <th>7</th>\n",
       "      <td>NaN</td>\n",
       "      <td>망자의 투구</td>\n",
       "      <td>200</td>\n",
       "      <td>Perfect Rare</td>\n",
       "      <td>공용</td>\n",
       "      <td>방어 +165\\n모든 스탯 +85\\n마나 회복력 상승</td>\n",
       "      <td>데스나이트 로드</td>\n",
       "      <td>NaN</td>\n",
       "      <td>NaN</td>\n",
       "      <td>NaN</td>\n",
       "      <td>NaN</td>\n",
       "      <td>NaN</td>\n",
       "      <td>NaN</td>\n",
       "      <td>NaN</td>\n",
       "    </tr>\n",
       "    <tr>\n",
       "      <th>8</th>\n",
       "      <td>NaN</td>\n",
       "      <td>NaN</td>\n",
       "      <td>NaN</td>\n",
       "      <td>NaN</td>\n",
       "      <td>NaN</td>\n",
       "      <td>NaN</td>\n",
       "      <td>NaN</td>\n",
       "      <td>NaN</td>\n",
       "      <td>NaN</td>\n",
       "      <td>NaN</td>\n",
       "      <td>NaN</td>\n",
       "      <td>NaN</td>\n",
       "      <td>NaN</td>\n",
       "      <td>NaN</td>\n",
       "    </tr>\n",
       "    <tr>\n",
       "      <th>9</th>\n",
       "      <td>NaN</td>\n",
       "      <td>맹독의 투구</td>\n",
       "      <td>240</td>\n",
       "      <td>Perfect Rare</td>\n",
       "      <td>투구</td>\n",
       "      <td>방어 +200</td>\n",
       "      <td>하이드라</td>\n",
       "      <td>NaN</td>\n",
       "      <td>NaN</td>\n",
       "      <td>NaN</td>\n",
       "      <td>NaN</td>\n",
       "      <td>NaN</td>\n",
       "      <td>NaN</td>\n",
       "      <td>NaN</td>\n",
       "    </tr>\n",
       "    <tr>\n",
       "      <th>10</th>\n",
       "      <td>NaN</td>\n",
       "      <td>NaN</td>\n",
       "      <td>NaN</td>\n",
       "      <td>NaN</td>\n",
       "      <td>NaN</td>\n",
       "      <td>NaN</td>\n",
       "      <td>NaN</td>\n",
       "      <td>NaN</td>\n",
       "      <td>NaN</td>\n",
       "      <td>NaN</td>\n",
       "      <td>NaN</td>\n",
       "      <td>NaN</td>\n",
       "      <td>NaN</td>\n",
       "      <td>NaN</td>\n",
       "    </tr>\n",
       "    <tr>\n",
       "      <th>11</th>\n",
       "      <td>NaN</td>\n",
       "      <td>맹독의 후드</td>\n",
       "      <td>240</td>\n",
       "      <td>Perfect Rare</td>\n",
       "      <td>후드</td>\n",
       "      <td>방어 +140\\n지능 +125</td>\n",
       "      <td>하이드라</td>\n",
       "      <td>NaN</td>\n",
       "      <td>NaN</td>\n",
       "      <td>NaN</td>\n",
       "      <td>NaN</td>\n",
       "      <td>NaN</td>\n",
       "      <td>NaN</td>\n",
       "      <td>NaN</td>\n",
       "    </tr>\n",
       "    <tr>\n",
       "      <th>12</th>\n",
       "      <td>NaN</td>\n",
       "      <td>NaN</td>\n",
       "      <td>NaN</td>\n",
       "      <td>NaN</td>\n",
       "      <td>NaN</td>\n",
       "      <td>NaN</td>\n",
       "      <td>NaN</td>\n",
       "      <td>NaN</td>\n",
       "      <td>NaN</td>\n",
       "      <td>NaN</td>\n",
       "      <td>NaN</td>\n",
       "      <td>NaN</td>\n",
       "      <td>NaN</td>\n",
       "      <td>NaN</td>\n",
       "    </tr>\n",
       "    <tr>\n",
       "      <th>13</th>\n",
       "      <td>NaN</td>\n",
       "      <td>왈라키아\\n백작의 투구</td>\n",
       "      <td>250</td>\n",
       "      <td>Perfect Rare</td>\n",
       "      <td>투구</td>\n",
       "      <td>방어 +210</td>\n",
       "      <td>왈라키아 백작</td>\n",
       "      <td>NaN</td>\n",
       "      <td>NaN</td>\n",
       "      <td>NaN</td>\n",
       "      <td>NaN</td>\n",
       "      <td>NaN</td>\n",
       "      <td>NaN</td>\n",
       "      <td>NaN</td>\n",
       "    </tr>\n",
       "    <tr>\n",
       "      <th>14</th>\n",
       "      <td>NaN</td>\n",
       "      <td>NaN</td>\n",
       "      <td>NaN</td>\n",
       "      <td>NaN</td>\n",
       "      <td>NaN</td>\n",
       "      <td>NaN</td>\n",
       "      <td>NaN</td>\n",
       "      <td>NaN</td>\n",
       "      <td>NaN</td>\n",
       "      <td>NaN</td>\n",
       "      <td>NaN</td>\n",
       "      <td>NaN</td>\n",
       "      <td>NaN</td>\n",
       "      <td>NaN</td>\n",
       "    </tr>\n",
       "    <tr>\n",
       "      <th>15</th>\n",
       "      <td>NaN</td>\n",
       "      <td>왈라키아\\n백작의 후드</td>\n",
       "      <td>250</td>\n",
       "      <td>Perfect Rare</td>\n",
       "      <td>후드</td>\n",
       "      <td>방어 +150\\n지능 +145</td>\n",
       "      <td>왈라키아 백작</td>\n",
       "      <td>NaN</td>\n",
       "      <td>NaN</td>\n",
       "      <td>NaN</td>\n",
       "      <td>NaN</td>\n",
       "      <td>NaN</td>\n",
       "      <td>NaN</td>\n",
       "      <td>NaN</td>\n",
       "    </tr>\n",
       "    <tr>\n",
       "      <th>16</th>\n",
       "      <td>NaN</td>\n",
       "      <td>NaN</td>\n",
       "      <td>NaN</td>\n",
       "      <td>NaN</td>\n",
       "      <td>NaN</td>\n",
       "      <td>NaN</td>\n",
       "      <td>NaN</td>\n",
       "      <td>NaN</td>\n",
       "      <td>NaN</td>\n",
       "      <td>NaN</td>\n",
       "      <td>NaN</td>\n",
       "      <td>NaN</td>\n",
       "      <td>NaN</td>\n",
       "      <td>NaN</td>\n",
       "    </tr>\n",
       "    <tr>\n",
       "      <th>17</th>\n",
       "      <td>NaN</td>\n",
       "      <td>Epic (Alcatra) 완제품</td>\n",
       "      <td>NaN</td>\n",
       "      <td>NaN</td>\n",
       "      <td>NaN</td>\n",
       "      <td>NaN</td>\n",
       "      <td>NaN</td>\n",
       "      <td>NaN</td>\n",
       "      <td>Epic (Alcatra)</td>\n",
       "      <td>NaN</td>\n",
       "      <td>NaN</td>\n",
       "      <td>NaN</td>\n",
       "      <td>NaN</td>\n",
       "      <td>NaN</td>\n",
       "    </tr>\n",
       "    <tr>\n",
       "      <th>18</th>\n",
       "      <td>NaN</td>\n",
       "      <td>NaN</td>\n",
       "      <td>NaN</td>\n",
       "      <td>NaN</td>\n",
       "      <td>NaN</td>\n",
       "      <td>NaN</td>\n",
       "      <td>NaN</td>\n",
       "      <td>NaN</td>\n",
       "      <td>NaN</td>\n",
       "      <td>NaN</td>\n",
       "      <td>NaN</td>\n",
       "      <td>NaN</td>\n",
       "      <td>NaN</td>\n",
       "      <td>NaN</td>\n",
       "    </tr>\n",
       "    <tr>\n",
       "      <th>19</th>\n",
       "      <td>NaN</td>\n",
       "      <td>아이템</td>\n",
       "      <td>렙제</td>\n",
       "      <td>등급</td>\n",
       "      <td>속성</td>\n",
       "      <td>옵션</td>\n",
       "      <td>드랍 몬스터</td>\n",
       "      <td>NaN</td>\n",
       "      <td>아이템</td>\n",
       "      <td>렙제</td>\n",
       "      <td>등급</td>\n",
       "      <td>속성</td>\n",
       "      <td>옵션</td>\n",
       "      <td>조합법</td>\n",
       "    </tr>\n",
       "    <tr>\n",
       "      <th>20</th>\n",
       "      <td>NaN</td>\n",
       "      <td>열정의 투구</td>\n",
       "      <td>200</td>\n",
       "      <td>Epic\\n(Alcatra)</td>\n",
       "      <td>투구</td>\n",
       "      <td>방어 +175\\n주스탯 +100\\n모든 스탯 +100\\n주변 아군의 속도 증가</td>\n",
       "      <td>이블 라바 스폰</td>\n",
       "      <td>NaN</td>\n",
       "      <td>잭 펌킨 투구 +1</td>\n",
       "      <td>260</td>\n",
       "      <td>Epic\\n(Alcatra)</td>\n",
       "      <td>투구</td>\n",
       "      <td>방어 +250\\n힘 + 100\\n민첩 +125\\n회피율 +15%</td>\n",
       "      <td>잭 펌킨 투구 (잭 오 랜턴)\\n철광석 x30\\n은광석 x25</td>\n",
       "    </tr>\n",
       "    <tr>\n",
       "      <th>21</th>\n",
       "      <td>NaN</td>\n",
       "      <td>NaN</td>\n",
       "      <td>NaN</td>\n",
       "      <td>NaN</td>\n",
       "      <td>NaN</td>\n",
       "      <td>NaN</td>\n",
       "      <td>NaN</td>\n",
       "      <td>NaN</td>\n",
       "      <td>NaN</td>\n",
       "      <td>NaN</td>\n",
       "      <td>NaN</td>\n",
       "      <td>NaN</td>\n",
       "      <td>NaN</td>\n",
       "      <td>NaN</td>\n",
       "    </tr>\n",
       "  </tbody>\n",
       "</table>\n",
       "</div>"
      ],
      "text/plain": [
       "    Unnamed: 0          Unnamed: 1 Unnamed: 2       Unnamed: 3 Unnamed: 4  \\\n",
       "0          NaN  투구(후드) 아이템 완제 및 조합        NaN              NaN        NaN   \n",
       "1          NaN                 NaN        NaN              NaN        NaN   \n",
       "2          NaN    Perfect Rare 완제품        NaN              NaN        NaN   \n",
       "3          NaN                 NaN        NaN              NaN        NaN   \n",
       "4          NaN                 아이템         렙제               등급         속성   \n",
       "5          NaN             글래시어 가드        150     Perfect Rare         투구   \n",
       "6          NaN                 NaN        NaN              NaN        NaN   \n",
       "7          NaN              망자의 투구        200     Perfect Rare         공용   \n",
       "8          NaN                 NaN        NaN              NaN        NaN   \n",
       "9          NaN              맹독의 투구        240     Perfect Rare         투구   \n",
       "10         NaN                 NaN        NaN              NaN        NaN   \n",
       "11         NaN              맹독의 후드        240     Perfect Rare         후드   \n",
       "12         NaN                 NaN        NaN              NaN        NaN   \n",
       "13         NaN        왈라키아\\n백작의 투구        250     Perfect Rare         투구   \n",
       "14         NaN                 NaN        NaN              NaN        NaN   \n",
       "15         NaN        왈라키아\\n백작의 후드        250     Perfect Rare         후드   \n",
       "16         NaN                 NaN        NaN              NaN        NaN   \n",
       "17         NaN  Epic (Alcatra) 완제품        NaN              NaN        NaN   \n",
       "18         NaN                 NaN        NaN              NaN        NaN   \n",
       "19         NaN                 아이템         렙제               등급         속성   \n",
       "20         NaN              열정의 투구        200  Epic\\n(Alcatra)         투구   \n",
       "21         NaN                 NaN        NaN              NaN        NaN   \n",
       "\n",
       "                                     Unnamed: 5 Unnamed: 6  Unnamed: 7  \\\n",
       "0                                           NaN        NaN         NaN   \n",
       "1                                           NaN        NaN         NaN   \n",
       "2                                           NaN        NaN         NaN   \n",
       "3                                           NaN        NaN         NaN   \n",
       "4                                            옵션     드랍 몬스터         NaN   \n",
       "5     방어 +180\\n힘 +100\\n민첩 +85\\n피격시 확률로 주변 적을 빙결        매머드         NaN   \n",
       "6                                           NaN        NaN         NaN   \n",
       "7                 방어 +165\\n모든 스탯 +85\\n마나 회복력 상승   데스나이트 로드         NaN   \n",
       "8                                           NaN        NaN         NaN   \n",
       "9                                       방어 +200       하이드라         NaN   \n",
       "10                                          NaN        NaN         NaN   \n",
       "11                             방어 +140\\n지능 +125       하이드라         NaN   \n",
       "12                                          NaN        NaN         NaN   \n",
       "13                                      방어 +210    왈라키아 백작         NaN   \n",
       "14                                          NaN        NaN         NaN   \n",
       "15                             방어 +150\\n지능 +145    왈라키아 백작         NaN   \n",
       "16                                          NaN        NaN         NaN   \n",
       "17                                          NaN        NaN         NaN   \n",
       "18                                          NaN        NaN         NaN   \n",
       "19                                           옵션     드랍 몬스터         NaN   \n",
       "20  방어 +175\\n주스탯 +100\\n모든 스탯 +100\\n주변 아군의 속도 증가   이블 라바 스폰         NaN   \n",
       "21                                          NaN        NaN         NaN   \n",
       "\n",
       "        Unnamed: 8 Unnamed: 9      Unnamed: 10 Unnamed: 11  \\\n",
       "0              NaN        NaN              NaN         NaN   \n",
       "1              NaN        NaN              NaN         NaN   \n",
       "2     Perfect Rare        NaN              NaN         NaN   \n",
       "3              NaN        NaN              NaN         NaN   \n",
       "4              NaN        NaN              NaN         NaN   \n",
       "5              NaN        NaN              NaN         NaN   \n",
       "6              NaN        NaN              NaN         NaN   \n",
       "7              NaN        NaN              NaN         NaN   \n",
       "8              NaN        NaN              NaN         NaN   \n",
       "9              NaN        NaN              NaN         NaN   \n",
       "10             NaN        NaN              NaN         NaN   \n",
       "11             NaN        NaN              NaN         NaN   \n",
       "12             NaN        NaN              NaN         NaN   \n",
       "13             NaN        NaN              NaN         NaN   \n",
       "14             NaN        NaN              NaN         NaN   \n",
       "15             NaN        NaN              NaN         NaN   \n",
       "16             NaN        NaN              NaN         NaN   \n",
       "17  Epic (Alcatra)        NaN              NaN         NaN   \n",
       "18             NaN        NaN              NaN         NaN   \n",
       "19             아이템         렙제               등급          속성   \n",
       "20      잭 펌킨 투구 +1        260  Epic\\n(Alcatra)          투구   \n",
       "21             NaN        NaN              NaN         NaN   \n",
       "\n",
       "                            Unnamed: 12                         Unnamed: 13  \n",
       "0                                   NaN                                 NaN  \n",
       "1                                   NaN                                 NaN  \n",
       "2                                   NaN                                 NaN  \n",
       "3                                   NaN                                 NaN  \n",
       "4                                   NaN                                 NaN  \n",
       "5                                   NaN                                 NaN  \n",
       "6                                   NaN                                 NaN  \n",
       "7                                   NaN                                 NaN  \n",
       "8                                   NaN                                 NaN  \n",
       "9                                   NaN                                 NaN  \n",
       "10                                  NaN                                 NaN  \n",
       "11                                  NaN                                 NaN  \n",
       "12                                  NaN                                 NaN  \n",
       "13                                  NaN                                 NaN  \n",
       "14                                  NaN                                 NaN  \n",
       "15                                  NaN                                 NaN  \n",
       "16                                  NaN                                 NaN  \n",
       "17                                  NaN                                 NaN  \n",
       "18                                  NaN                                 NaN  \n",
       "19                                   옵션                                 조합법  \n",
       "20  방어 +250\\n힘 + 100\\n민첩 +125\\n회피율 +15%  잭 펌킨 투구 (잭 오 랜턴)\\n철광석 x30\\n은광석 x25  \n",
       "21                                  NaN                                 NaN  "
      ]
     },
     "execution_count": 20,
     "metadata": {},
     "output_type": "execute_result"
    }
   ],
   "source": [
    "df[:22]"
   ]
  },
  {
   "cell_type": "markdown",
   "metadata": {},
   "source": [
    "### getFile 함수화"
   ]
  },
  {
   "cell_type": "markdown",
   "metadata": {},
   "source": [
    "## TestCase"
   ]
  },
  {
   "cell_type": "markdown",
   "metadata": {},
   "source": [
    "### BigCategory\n",
    "#### Unnamed: 1, Unnamed: 8 기준잡기"
   ]
  },
  {
   "cell_type": "code",
   "execution_count": 97,
   "metadata": {},
   "outputs": [],
   "source": [
    "# 아닌건 -1, NaN 이며, 있는건 그것을 제외한것\n",
    "bigCategDf = df[['Unnamed: 1', 'Unnamed: 8']][ (df['Unnamed: 1'].str.find('Epic') > -1) | (df['Unnamed: 1'].str.find('완제품') > -1) ]\n",
    "bigCategComp = bigCategDf['Unnamed: 1']\n",
    "bigCategComb = bigCategDf['Unnamed: 8']"
   ]
  },
  {
   "cell_type": "code",
   "execution_count": 92,
   "metadata": {},
   "outputs": [
    {
     "data": {
      "text/plain": [
       "0      False\n",
       "1      False\n",
       "2       True\n",
       "3      False\n",
       "4      False\n",
       "       ...  \n",
       "97     False\n",
       "98     False\n",
       "99     False\n",
       "100    False\n",
       "101    False\n",
       "Name: Unnamed: 1, Length: 102, dtype: bool"
      ]
     },
     "execution_count": 92,
     "metadata": {},
     "output_type": "execute_result"
    }
   ],
   "source": [
    "df['Unnamed: 1'][~df['Unnamed: 1'].isnull()].str.startswith('Epic')\n",
    "df['Unnamed: 1'].str.find('Epic') > -1\n",
    "df['Unnamed: 1'].str.find('완제품') > -1\n",
    "(df['Unnamed: 1'].str.find('Epic') > -1) | (df['Unnamed: 1'].str.find('완제품') > -1)"
   ]
  },
  {
   "cell_type": "code",
   "execution_count": 94,
   "metadata": {},
   "outputs": [
    {
     "data": {
      "text/plain": [
       "2         Perfect Rare 완제품\n",
       "17      Epic (Alcatra) 완제품\n",
       "30    Epic (Deltirama) 완제품\n",
       "39     Epic (Naptinos) 완제품\n",
       "60       Epic (Gnosis) 완제품\n",
       "Name: Unnamed: 1, dtype: object"
      ]
     },
     "execution_count": 94,
     "metadata": {},
     "output_type": "execute_result"
    }
   ],
   "source": [
    "# import re\n",
    "# df['Unnamed: 1'][~df['Unnamed: 1'].isnull()].apply(lambda x : re.findall( '^[a-zA-Z]' ,x ) )\n",
    "# df['Unnamed: 1'][~df['Unnamed: 1'].isnull()][df['Unnamed: 1'].str.find('완제품') > -1 | df['Unnamed: 1'].str.startswith('Epic')]\n",
    "bigCategComp[~bigCategComp.isnull()][ (bigCategComp.str.find('Epic') > -1) | (bigCategComp.str.find('완제품') > -1) ]"
   ]
  },
  {
   "cell_type": "code",
   "execution_count": 95,
   "metadata": {},
   "outputs": [
    {
     "data": {
      "text/plain": [
       "2         Perfect Rare 완제품\n",
       "17      Epic (Alcatra) 완제품\n",
       "30    Epic (Deltirama) 완제품\n",
       "39     Epic (Naptinos) 완제품\n",
       "60       Epic (Gnosis) 완제품\n",
       "Name: Unnamed: 1, dtype: object"
      ]
     },
     "execution_count": 95,
     "metadata": {},
     "output_type": "execute_result"
    }
   ],
   "source": [
    "# 완제품이라고 안적힌 마지막 항목이 있었다는 점 이 ERROR\n",
    "bigCategComp"
   ]
  },
  {
   "cell_type": "code",
   "execution_count": 37,
   "metadata": {},
   "outputs": [
    {
     "data": {
      "text/plain": [
       "Int64Index([2, 17, 30, 39, 60], dtype='int64')"
      ]
     },
     "execution_count": 37,
     "metadata": {},
     "output_type": "execute_result"
    }
   ],
   "source": [
    "bigCategComp.index"
   ]
  },
  {
   "cell_type": "code",
   "execution_count": 98,
   "metadata": {},
   "outputs": [
    {
     "data": {
      "text/plain": [
       "2         Perfect Rare\n",
       "17      Epic (Alcatra)\n",
       "30    Epic (Deltirama)\n",
       "39     Epic (Naptinos)\n",
       "60       Epic (Gnosis)\n",
       "95       Epic (alteia)\n",
       "Name: Unnamed: 8, dtype: object"
      ]
     },
     "execution_count": 98,
     "metadata": {},
     "output_type": "execute_result"
    }
   ],
   "source": [
    "bigCategComb"
   ]
  },
  {
   "cell_type": "code",
   "execution_count": 105,
   "metadata": {},
   "outputs": [
    {
     "data": {
      "text/plain": [
       "Int64Index([2, 17, 30, 39, 60, 95], dtype='int64')"
      ]
     },
     "execution_count": 105,
     "metadata": {},
     "output_type": "execute_result"
    }
   ],
   "source": [
    "bigCategComb.index"
   ]
  },
  {
   "cell_type": "code",
   "execution_count": 193,
   "metadata": {},
   "outputs": [
    {
     "name": "stdout",
     "output_type": "stream",
     "text": [
      "4\n",
      "19\n",
      "32\n",
      "41\n",
      "62\n",
      "97\n"
     ]
    }
   ],
   "source": [
    "# big 카테고리 아래의 컬럼들이 위치한 셀이 +2 행 아래.\n",
    "for i in bigCategComb.index:\n",
    "    print(i + 2)"
   ]
  },
  {
   "cell_type": "code",
   "execution_count": 119,
   "metadata": {},
   "outputs": [
    {
     "data": {
      "text/plain": [
       "(True, False)"
      ]
     },
     "execution_count": 119,
     "metadata": {},
     "output_type": "execute_result"
    }
   ],
   "source": [
    "df['Unnamed: 8'].isnull()[4],df['Unnamed: 8'].isnull()[19]"
   ]
  },
  {
   "cell_type": "code",
   "execution_count": 120,
   "metadata": {},
   "outputs": [
    {
     "name": "stdout",
     "output_type": "stream",
     "text": [
      "True\n",
      "False\n",
      "False\n",
      "False\n",
      "False\n",
      "False\n"
     ]
    }
   ],
   "source": [
    "for i in bigCategComb.index:\n",
    "    print(df['Unnamed: 8'].isnull()[i + 2])"
   ]
  },
  {
   "cell_type": "code",
   "execution_count": 133,
   "metadata": {},
   "outputs": [
    {
     "data": {
      "text/html": [
       "<div>\n",
       "<style scoped>\n",
       "    .dataframe tbody tr th:only-of-type {\n",
       "        vertical-align: middle;\n",
       "    }\n",
       "\n",
       "    .dataframe tbody tr th {\n",
       "        vertical-align: top;\n",
       "    }\n",
       "\n",
       "    .dataframe thead th {\n",
       "        text-align: right;\n",
       "    }\n",
       "</style>\n",
       "<table border=\"1\" class=\"dataframe\">\n",
       "  <thead>\n",
       "    <tr style=\"text-align: right;\">\n",
       "      <th></th>\n",
       "      <th>Unnamed: 8</th>\n",
       "      <th>Unnamed: 9</th>\n",
       "      <th>Unnamed: 10</th>\n",
       "      <th>Unnamed: 11</th>\n",
       "      <th>Unnamed: 12</th>\n",
       "      <th>Unnamed: 13</th>\n",
       "    </tr>\n",
       "  </thead>\n",
       "  <tbody>\n",
       "    <tr>\n",
       "      <th>32</th>\n",
       "      <td>아이템</td>\n",
       "      <td>렙제</td>\n",
       "      <td>등급</td>\n",
       "      <td>속성</td>\n",
       "      <td>옵션</td>\n",
       "      <td>조합법</td>\n",
       "    </tr>\n",
       "    <tr>\n",
       "      <th>33</th>\n",
       "      <td>진용투 아그론</td>\n",
       "      <td>300</td>\n",
       "      <td>Epic\\n(Deltirama)</td>\n",
       "      <td>투구</td>\n",
       "      <td>방어 +400\\n마법 방어 +10%\\n5분 주기 마법방어</td>\n",
       "      <td>용투 아그론 (데드렉트)\\n드래곤 스케일 (데드렉트)\\n오리하르콘 (잭 오 랜턴)\\...</td>\n",
       "    </tr>\n",
       "    <tr>\n",
       "      <th>34</th>\n",
       "      <td>NaN</td>\n",
       "      <td>NaN</td>\n",
       "      <td>NaN</td>\n",
       "      <td>NaN</td>\n",
       "      <td>NaN</td>\n",
       "      <td>NaN</td>\n",
       "    </tr>\n",
       "    <tr>\n",
       "      <th>35</th>\n",
       "      <td>데스 비사쥬</td>\n",
       "      <td>240</td>\n",
       "      <td>Epic\\n(Deltirama)</td>\n",
       "      <td>투구</td>\n",
       "      <td>방어 +290\\n민첩 +230\\n체력 +1500\\n스킬 데미지 &amp; 치명타 확률 4....</td>\n",
       "      <td>잭 펌킨 투구 +1\\n피의 가면 (피의 망령)\\n망령의 실 (왈라키아망령. 매드 클라운)</td>\n",
       "    </tr>\n",
       "    <tr>\n",
       "      <th>36</th>\n",
       "      <td>NaN</td>\n",
       "      <td>NaN</td>\n",
       "      <td>NaN</td>\n",
       "      <td>NaN</td>\n",
       "      <td>NaN</td>\n",
       "      <td>NaN</td>\n",
       "    </tr>\n",
       "    <tr>\n",
       "      <th>37</th>\n",
       "      <td>후드 오브 리퍼</td>\n",
       "      <td>280</td>\n",
       "      <td>Epic\\n(Deltirama)</td>\n",
       "      <td>후드</td>\n",
       "      <td>방어 +240\\n힘 +160\\n지능 +270\\n이동 속도 +50\\n체력이 낮아질시 ...</td>\n",
       "      <td>잭 펌킨 후드 +1\\n망자의 투구 (데스 나이트)\\n스캐럽 본 (스캐럽, 매드 클라운)</td>\n",
       "    </tr>\n",
       "    <tr>\n",
       "      <th>38</th>\n",
       "      <td>NaN</td>\n",
       "      <td>NaN</td>\n",
       "      <td>NaN</td>\n",
       "      <td>NaN</td>\n",
       "      <td>NaN</td>\n",
       "      <td>NaN</td>\n",
       "    </tr>\n",
       "  </tbody>\n",
       "</table>\n",
       "</div>"
      ],
      "text/plain": [
       "   Unnamed: 8 Unnamed: 9        Unnamed: 10 Unnamed: 11  \\\n",
       "32        아이템         렙제                 등급          속성   \n",
       "33    진용투 아그론        300  Epic\\n(Deltirama)          투구   \n",
       "34        NaN        NaN                NaN         NaN   \n",
       "35     데스 비사쥬        240  Epic\\n(Deltirama)          투구   \n",
       "36        NaN        NaN                NaN         NaN   \n",
       "37   후드 오브 리퍼        280  Epic\\n(Deltirama)          후드   \n",
       "38        NaN        NaN                NaN         NaN   \n",
       "\n",
       "                                          Unnamed: 12  \\\n",
       "32                                                 옵션   \n",
       "33                    방어 +400\\n마법 방어 +10%\\n5분 주기 마법방어   \n",
       "34                                                NaN   \n",
       "35  방어 +290\\n민첩 +230\\n체력 +1500\\n스킬 데미지 & 치명타 확률 4....   \n",
       "36                                                NaN   \n",
       "37  방어 +240\\n힘 +160\\n지능 +270\\n이동 속도 +50\\n체력이 낮아질시 ...   \n",
       "38                                                NaN   \n",
       "\n",
       "                                          Unnamed: 13  \n",
       "32                                                조합법  \n",
       "33  용투 아그론 (데드렉트)\\n드래곤 스케일 (데드렉트)\\n오리하르콘 (잭 오 랜턴)\\...  \n",
       "34                                                NaN  \n",
       "35  잭 펌킨 투구 +1\\n피의 가면 (피의 망령)\\n망령의 실 (왈라키아망령. 매드 클라운)  \n",
       "36                                                NaN  \n",
       "37   잭 펌킨 후드 +1\\n망자의 투구 (데스 나이트)\\n스캐럽 본 (스캐럽, 매드 클라운)  \n",
       "38                                                NaN  "
      ]
     },
     "execution_count": 133,
     "metadata": {},
     "output_type": "execute_result"
    }
   ],
   "source": [
    "df[df.columns[8:]][19:30]\n",
    "df[df.columns[8:]][32:39]"
   ]
  },
  {
   "cell_type": "code",
   "execution_count": 135,
   "metadata": {},
   "outputs": [
    {
     "data": {
      "text/html": [
       "<div>\n",
       "<style scoped>\n",
       "    .dataframe tbody tr th:only-of-type {\n",
       "        vertical-align: middle;\n",
       "    }\n",
       "\n",
       "    .dataframe tbody tr th {\n",
       "        vertical-align: top;\n",
       "    }\n",
       "\n",
       "    .dataframe thead th {\n",
       "        text-align: right;\n",
       "    }\n",
       "</style>\n",
       "<table border=\"1\" class=\"dataframe\">\n",
       "  <thead>\n",
       "    <tr style=\"text-align: right;\">\n",
       "      <th></th>\n",
       "      <th>Unnamed: 8</th>\n",
       "      <th>Unnamed: 9</th>\n",
       "      <th>Unnamed: 10</th>\n",
       "      <th>Unnamed: 11</th>\n",
       "      <th>Unnamed: 12</th>\n",
       "      <th>Unnamed: 13</th>\n",
       "    </tr>\n",
       "  </thead>\n",
       "  <tbody>\n",
       "    <tr>\n",
       "      <th>32</th>\n",
       "      <td>아이템</td>\n",
       "      <td>렙제</td>\n",
       "      <td>등급</td>\n",
       "      <td>속성</td>\n",
       "      <td>옵션</td>\n",
       "      <td>조합법</td>\n",
       "    </tr>\n",
       "    <tr>\n",
       "      <th>33</th>\n",
       "      <td>진용투 아그론</td>\n",
       "      <td>300</td>\n",
       "      <td>Epic\\n(Deltirama)</td>\n",
       "      <td>투구</td>\n",
       "      <td>방어 +400\\n마법 방어 +10%\\n5분 주기 마법방어</td>\n",
       "      <td>용투 아그론 (데드렉트)\\n드래곤 스케일 (데드렉트)\\n오리하르콘 (잭 오 랜턴)\\...</td>\n",
       "    </tr>\n",
       "    <tr>\n",
       "      <th>34</th>\n",
       "      <td>NaN</td>\n",
       "      <td>NaN</td>\n",
       "      <td>NaN</td>\n",
       "      <td>NaN</td>\n",
       "      <td>NaN</td>\n",
       "      <td>NaN</td>\n",
       "    </tr>\n",
       "    <tr>\n",
       "      <th>35</th>\n",
       "      <td>데스 비사쥬</td>\n",
       "      <td>240</td>\n",
       "      <td>Epic\\n(Deltirama)</td>\n",
       "      <td>투구</td>\n",
       "      <td>방어 +290\\n민첩 +230\\n체력 +1500\\n스킬 데미지 &amp; 치명타 확률 4....</td>\n",
       "      <td>잭 펌킨 투구 +1\\n피의 가면 (피의 망령)\\n망령의 실 (왈라키아망령. 매드 클라운)</td>\n",
       "    </tr>\n",
       "    <tr>\n",
       "      <th>36</th>\n",
       "      <td>NaN</td>\n",
       "      <td>NaN</td>\n",
       "      <td>NaN</td>\n",
       "      <td>NaN</td>\n",
       "      <td>NaN</td>\n",
       "      <td>NaN</td>\n",
       "    </tr>\n",
       "    <tr>\n",
       "      <th>37</th>\n",
       "      <td>후드 오브 리퍼</td>\n",
       "      <td>280</td>\n",
       "      <td>Epic\\n(Deltirama)</td>\n",
       "      <td>후드</td>\n",
       "      <td>방어 +240\\n힘 +160\\n지능 +270\\n이동 속도 +50\\n체력이 낮아질시 ...</td>\n",
       "      <td>잭 펌킨 후드 +1\\n망자의 투구 (데스 나이트)\\n스캐럽 본 (스캐럽, 매드 클라운)</td>\n",
       "    </tr>\n",
       "    <tr>\n",
       "      <th>38</th>\n",
       "      <td>NaN</td>\n",
       "      <td>NaN</td>\n",
       "      <td>NaN</td>\n",
       "      <td>NaN</td>\n",
       "      <td>NaN</td>\n",
       "      <td>NaN</td>\n",
       "    </tr>\n",
       "  </tbody>\n",
       "</table>\n",
       "</div>"
      ],
      "text/plain": [
       "   Unnamed: 8 Unnamed: 9        Unnamed: 10 Unnamed: 11  \\\n",
       "32        아이템         렙제                 등급          속성   \n",
       "33    진용투 아그론        300  Epic\\n(Deltirama)          투구   \n",
       "34        NaN        NaN                NaN         NaN   \n",
       "35     데스 비사쥬        240  Epic\\n(Deltirama)          투구   \n",
       "36        NaN        NaN                NaN         NaN   \n",
       "37   후드 오브 리퍼        280  Epic\\n(Deltirama)          후드   \n",
       "38        NaN        NaN                NaN         NaN   \n",
       "\n",
       "                                          Unnamed: 12  \\\n",
       "32                                                 옵션   \n",
       "33                    방어 +400\\n마법 방어 +10%\\n5분 주기 마법방어   \n",
       "34                                                NaN   \n",
       "35  방어 +290\\n민첩 +230\\n체력 +1500\\n스킬 데미지 & 치명타 확률 4....   \n",
       "36                                                NaN   \n",
       "37  방어 +240\\n힘 +160\\n지능 +270\\n이동 속도 +50\\n체력이 낮아질시 ...   \n",
       "38                                                NaN   \n",
       "\n",
       "                                          Unnamed: 13  \n",
       "32                                                조합법  \n",
       "33  용투 아그론 (데드렉트)\\n드래곤 스케일 (데드렉트)\\n오리하르콘 (잭 오 랜턴)\\...  \n",
       "34                                                NaN  \n",
       "35  잭 펌킨 투구 +1\\n피의 가면 (피의 망령)\\n망령의 실 (왈라키아망령. 매드 클라운)  \n",
       "36                                                NaN  \n",
       "37   잭 펌킨 후드 +1\\n망자의 투구 (데스 나이트)\\n스캐럽 본 (스캐럽, 매드 클라운)  \n",
       "38                                                NaN  "
      ]
     },
     "execution_count": 135,
     "metadata": {},
     "output_type": "execute_result"
    }
   ],
   "source": [
    "Tests01 = df[df.columns[8:]][32:39]\n",
    "Tests01"
   ]
  },
  {
   "cell_type": "code",
   "execution_count": 194,
   "metadata": {
    "scrolled": false
   },
   "outputs": [
    {
     "data": {
      "text/html": [
       "<div>\n",
       "<style scoped>\n",
       "    .dataframe tbody tr th:only-of-type {\n",
       "        vertical-align: middle;\n",
       "    }\n",
       "\n",
       "    .dataframe tbody tr th {\n",
       "        vertical-align: top;\n",
       "    }\n",
       "\n",
       "    .dataframe thead th {\n",
       "        text-align: right;\n",
       "    }\n",
       "</style>\n",
       "<table border=\"1\" class=\"dataframe\">\n",
       "  <thead>\n",
       "    <tr style=\"text-align: right;\">\n",
       "      <th></th>\n",
       "      <th>아이템</th>\n",
       "      <th>렙제</th>\n",
       "      <th>등급</th>\n",
       "      <th>속성</th>\n",
       "      <th>옵션</th>\n",
       "      <th>조합법</th>\n",
       "    </tr>\n",
       "  </thead>\n",
       "  <tbody>\n",
       "    <tr>\n",
       "      <th>32</th>\n",
       "      <td>아이템</td>\n",
       "      <td>렙제</td>\n",
       "      <td>등급</td>\n",
       "      <td>속성</td>\n",
       "      <td>옵션</td>\n",
       "      <td>조합법</td>\n",
       "    </tr>\n",
       "    <tr>\n",
       "      <th>33</th>\n",
       "      <td>진용투 아그론</td>\n",
       "      <td>300</td>\n",
       "      <td>Epic\\n(Deltirama)</td>\n",
       "      <td>투구</td>\n",
       "      <td>방어 +400\\n마법 방어 +10%\\n5분 주기 마법방어</td>\n",
       "      <td>용투 아그론 (데드렉트)\\n드래곤 스케일 (데드렉트)\\n오리하르콘 (잭 오 랜턴)\\...</td>\n",
       "    </tr>\n",
       "    <tr>\n",
       "      <th>35</th>\n",
       "      <td>데스 비사쥬</td>\n",
       "      <td>240</td>\n",
       "      <td>Epic\\n(Deltirama)</td>\n",
       "      <td>투구</td>\n",
       "      <td>방어 +290\\n민첩 +230\\n체력 +1500\\n스킬 데미지 &amp; 치명타 확률 4....</td>\n",
       "      <td>잭 펌킨 투구 +1\\n피의 가면 (피의 망령)\\n망령의 실 (왈라키아망령. 매드 클라운)</td>\n",
       "    </tr>\n",
       "    <tr>\n",
       "      <th>37</th>\n",
       "      <td>후드 오브 리퍼</td>\n",
       "      <td>280</td>\n",
       "      <td>Epic\\n(Deltirama)</td>\n",
       "      <td>후드</td>\n",
       "      <td>방어 +240\\n힘 +160\\n지능 +270\\n이동 속도 +50\\n체력이 낮아질시 ...</td>\n",
       "      <td>잭 펌킨 후드 +1\\n망자의 투구 (데스 나이트)\\n스캐럽 본 (스캐럽, 매드 클라운)</td>\n",
       "    </tr>\n",
       "  </tbody>\n",
       "</table>\n",
       "</div>"
      ],
      "text/plain": [
       "         아이템   렙제                 등급  속성  \\\n",
       "32       아이템   렙제                 등급  속성   \n",
       "33   진용투 아그론  300  Epic\\n(Deltirama)  투구   \n",
       "35    데스 비사쥬  240  Epic\\n(Deltirama)  투구   \n",
       "37  후드 오브 리퍼  280  Epic\\n(Deltirama)  후드   \n",
       "\n",
       "                                                   옵션  \\\n",
       "32                                                 옵션   \n",
       "33                    방어 +400\\n마법 방어 +10%\\n5분 주기 마법방어   \n",
       "35  방어 +290\\n민첩 +230\\n체력 +1500\\n스킬 데미지 & 치명타 확률 4....   \n",
       "37  방어 +240\\n힘 +160\\n지능 +270\\n이동 속도 +50\\n체력이 낮아질시 ...   \n",
       "\n",
       "                                                  조합법  \n",
       "32                                                조합법  \n",
       "33  용투 아그론 (데드렉트)\\n드래곤 스케일 (데드렉트)\\n오리하르콘 (잭 오 랜턴)\\...  \n",
       "35  잭 펌킨 투구 +1\\n피의 가면 (피의 망령)\\n망령의 실 (왈라키아망령. 매드 클라운)  \n",
       "37   잭 펌킨 후드 +1\\n망자의 투구 (데스 나이트)\\n스캐럽 본 (스캐럽, 매드 클라운)  "
      ]
     },
     "execution_count": 194,
     "metadata": {},
     "output_type": "execute_result"
    }
   ],
   "source": [
    "# 테이블컬럼을 지정 = 행을 가져옴 및 해당행 삭제.\n",
    "# 결측행 삭제.\n",
    "Tests01 = Tests01.rename(columns=Tests01.loc[32])\n",
    "Tests01 = Tests01.dropna(axis=0)\n",
    "Tests01"
   ]
  },
  {
   "cell_type": "markdown",
   "metadata": {},
   "source": [
    "### 위의 것을 함수화하기. 및 테스트도 해야될듯."
   ]
  },
  {
   "cell_type": "code",
   "execution_count": 251,
   "metadata": {},
   "outputs": [],
   "source": [
    "# idx_TopHead = bigCategComb.index\n",
    "# idx_MidHead = idx_TopHead +2\n",
    "def getRankTable(df,idx_Toplist):\n",
    "    idx_TopHead = idx_Toplist.index\n",
    "    idx_MidHead = idx_TopHead +2\n",
    "    for i in range(len(idx_TopHead)):\n",
    "        print(idx_TopHead[i], idx_Toplist[idx_TopHead[i]])\n",
    "        isTableHead = df['Unnamed: 8'].isnull()[ idx_MidHead[i] ]\n",
    "        print(isTableHead)\n",
    "        if not isTableHead :\n",
    "            Condition1 = (i != len(idx_TopHead)-1)\n",
    "            oneT = df[df.columns[8:]][idx_MidHead[i]:( (idx_TopHead[i+1]) if Condition1 else len(df) ) ]\n",
    "            oneT_re = oneT.rename(columns=oneT.loc[idx_MidHead[i]])\n",
    "            oneT_re = oneT_re.dropna(axis=0)\n",
    "            print(oneT_re)\n",
    "            pass\n",
    "        else:\n",
    "            print('해당등급에서 List가 존재하지 않습니다.')\n",
    "            # 빈 List 던져주기"
   ]
  },
  {
   "cell_type": "code",
   "execution_count": 252,
   "metadata": {},
   "outputs": [
    {
     "name": "stdout",
     "output_type": "stream",
     "text": [
      "2 Perfect Rare\n",
      "True\n",
      "해당등급에서 List가 존재하지 않습니다.\n",
      "17 Epic (Alcatra)\n",
      "False\n",
      "           아이템   렙제               등급  속성                                   옵션  \\\n",
      "19         아이템   렙제               등급  속성                                   옵션   \n",
      "20  잭 펌킨 투구 +1  260  Epic\\n(Alcatra)  투구  방어 +250\\n힘 + 100\\n민첩 +125\\n회피율 +15%   \n",
      "22  잭 펌킨 후드 +1  260  Epic\\n(Alcatra)  후드           방어 +190\\n지능 +210\\n회피율 +15%   \n",
      "\n",
      "                                   조합법  \n",
      "19                                 조합법  \n",
      "20  잭 펌킨 투구 (잭 오 랜턴)\\n철광석 x30\\n은광석 x25  \n",
      "22  잭 펌킨 후드 (잭 오 랜턴)\\n철광석 x30\\n은광석 x25  \n",
      "30 Epic (Deltirama)\n",
      "False\n",
      "         아이템   렙제                 등급  속성  \\\n",
      "32       아이템   렙제                 등급  속성   \n",
      "33   진용투 아그론  300  Epic\\n(Deltirama)  투구   \n",
      "35    데스 비사쥬  240  Epic\\n(Deltirama)  투구   \n",
      "37  후드 오브 리퍼  280  Epic\\n(Deltirama)  후드   \n",
      "\n",
      "                                                   옵션  \\\n",
      "32                                                 옵션   \n",
      "33                    방어 +400\\n마법 방어 +10%\\n5분 주기 마법방어   \n",
      "35  방어 +290\\n민첩 +230\\n체력 +1500\\n스킬 데미지 & 치명타 확률 4....   \n",
      "37  방어 +240\\n힘 +160\\n지능 +270\\n이동 속도 +50\\n체력이 낮아질시 ...   \n",
      "\n",
      "                                                  조합법  \n",
      "32                                                조합법  \n",
      "33  용투 아그론 (데드렉트)\\n드래곤 스케일 (데드렉트)\\n오리하르콘 (잭 오 랜턴)\\...  \n",
      "35  잭 펌킨 투구 +1\\n피의 가면 (피의 망령)\\n망령의 실 (왈라키아망령. 매드 클라운)  \n",
      "37   잭 펌킨 후드 +1\\n망자의 투구 (데스 나이트)\\n스캐럽 본 (스캐럽, 매드 클라운)  \n",
      "39 Epic (Naptinos)\n",
      "False\n",
      "             아이템   렙제                등급  속성  \\\n",
      "41           아이템   렙제                등급  속성   \n",
      "42        그림 비사쥬  280  Epic\\n(Naptinos)  투구   \n",
      "44  후드 오브\\n그림 리퍼  340  Epic\\n(Naptinos)  후드   \n",
      "46        전장의 투구  360  Epic\\n(Naptinos)  공용   \n",
      "\n",
      "                                                   옵션  \\\n",
      "41                                                 옵션   \n",
      "42  방어 +380\\n민첩 +480\\n체력 +2500\\n스킬 데미지 & 치명타 확률 6%...   \n",
      "44  방어 +340\\n힘 +310\\n지 +490\\n이동 속도 +75\\n체력이 낮아질시 빙...   \n",
      "46  방어 +380\\n모든 스텟+310\\n주스텟 +250\\n공격 피해량 +10%\\n주변 ...   \n",
      "\n",
      "                                                  조합법  \n",
      "41                                                조합법  \n",
      "42  데스 비사쥬\\n마투 스케리스 (타락한 천사)\\n작은 분노의 조각 (이블 라바 스폰)...  \n",
      "44  후드 오브 리퍼\\n후드 오브 메이지 (마법사 왕)\\n해골 인장 (커럽터 렉터스)\\n...  \n",
      "46  진 용투 아그론\\n열정의 투구 (이블 라바 스폰)\\n아다만티움 (거미여왕)\\n천사의...  \n",
      "60 Epic (Gnosis)\n",
      "False\n",
      "               아이템   렙제              등급  속성  \\\n",
      "62             아이템   렙제              등급  속성   \n",
      "63       대천사의\\n헤일로  360  Epic\\n(Gnosis)  공용   \n",
      "65   마력의 원천\\n프로피티아  360  Epic\\n(Gnosis)  후드   \n",
      "67           파괴의 뿔  360  Epic\\n(Gnosis)  투구   \n",
      "69           나락의 눈  360  Epic\\n(Gnosis)  후드   \n",
      "71       월 오브 프로텍터  380  Epic\\n(Gnosis)  투구   \n",
      "73          냉정의 화관  380  Epic\\n(Gnosis)  공용   \n",
      "75  대마력의 원천\\n프로피티아  380  Epic\\n(Gnosis)  후드   \n",
      "77          청명의 화관  380  Epic\\n(Gnosis)  공용   \n",
      "79    후드 오브\\n아포크리파  380  Epic\\n(Gnosis)  후드   \n",
      "81        심판의\\n헤일로  380  Epic\\n(Gnosis)  공용   \n",
      "83         왈라키아의 눈  380  Epic\\n(Gnosis)  투구   \n",
      "85          진노의 화관  380  Epic\\n(Gnosis)  공용   \n",
      "87         드래곤 마스크  380  Epic\\n(Gnosis)  투구   \n",
      "89           화신의 눈  380  Epic\\n(Gnosis)  후드   \n",
      "91           악마의 뿔  380  Epic\\n(Gnosis)  공용   \n",
      "93           뇌신의 뿔  380  Epic\\n(Gnosis)  공용   \n",
      "\n",
      "                                                   옵션  \\\n",
      "62                                                 옵션   \n",
      "63  방어 +560\\n힘 +460\\n민첩 +300\\n공격 피해량 +12.5%\\n3분 주기...   \n",
      "65  방어 +420\\n지능 +670\\n스킬 데미지 +7.5%\\n사용 시 일시적으로 지능 ...   \n",
      "67  방어력 +220\\n힘+410\\n민첩 +480\\n스킬 데미지 +6%\\n피격 데미지 +...   \n",
      "69  방어 +444\\n지능 +777\\n주변 아군의 스킬 데미지 +4%\\n마법 방어 5% ...   \n",
      "71  방어 +590\\n힘 +570\\n받는 데미지 15% 감소 \\n피격시 확률로 생명력 회...   \n",
      "73  방어 +640\\n모든스탯 +720\\n스킬 데미지 +7.5%, 이동속도 +12% \\n...   \n",
      "75  방어 +490\\n지능 +840\\n마나 +4000\\n스킬 데미지 +10%\\n사용 시 ...   \n",
      "77  방어 +570\\n모든스탯 +790\\n치명타 확률 +10%, 이동속도 +12% \\n아...   \n",
      "79  방어 +520\\n힘, 민첩 +560\\n지능 +730\\n스킬 데미지 +4%\\n사용시 ...   \n",
      "81  방어 +675\\n힘 +525\\n민첩 +435\\n공격 피해량 +15%\\n매 공격시 심...   \n",
      "83  방어 +490\\nHP + 3000\\n민첩 +610\\n스킬 데미지 & 치명타 확률 7...   \n",
      "85   모든 스탯 +630\\n 방어력 + 310\\n 스킬 데미지 +6%, 이동 속도 +1...   \n",
      "87  \\n방어 +480\\n민첩 +580\\nHP +4000\\n스킬 데미지 7.5% 상승\\n...   \n",
      "89  방어 +555\\n지능 +999\\nHP +4000\\n주변 아군의 공격력 및 스킬 데미...   \n",
      "91  방어력 +250\\n모든스탯 +480\\n스킬 데미지,치명타 확률+6%\\n피격 데미지 ...   \n",
      "93  방어력 +270\\n주스탯 +240\\n모든스탯 +480\\n스킬 데미지 12%,치명타 ...   \n",
      "\n",
      "                                                  조합법  \n",
      "62                                                조합법  \n",
      "63  성투 홀리로스 (능천사)\\n얼음 거미줄 (거미여왕)\\n다크매터 (마왕)\\n성서의 한...  \n",
      "65  후드 오브 메이지 (마법사 왕)\\n얼음 거미줄 (거미여왕)\\n다크매터 (마왕)\\n마...  \n",
      "67  마왕의 뿔 (마왕)\\n다크매터 (마왕)\\n블러드 스톤 (왈라키아 백작)\\n드래곤 스...  \n",
      "69  심연의 눈 (마왕)\\n악몽의 기운 (플레임 나이트메어)\\n암흑의 날개조각 (마왕)\\...  \n",
      "71  스케일 프로텍터 (터틀 로드)\\n생명의 돌 (마나 에이션트)\\n안티 매터 (암흑룡)...  \n",
      "73  열정의 화관 (플레임 나이트메어)\\n서리한의 후드 프로스트 (서리한의 제왕)\\n암흑...  \n",
      "75  마력의 원천 프로피티아\\n안티매터 (암흑룡)\\n대자연의 정수 (에이션트 엔트)\\n매...  \n",
      "77  폭풍우의 화관 (스피릿 비스트)\\n바람의 조각 (에이션트 엔트)\\n한기의 조각 (암...  \n",
      "79  후드 오브 그림리퍼\\n망자의 두건 (좀비로드)\\n위서의 한 페이지 (사미엘)\\n심연...  \n",
      "81  대천사의 헤일로\\n전장의 투구\\n정화의 증표 (좀비로드)\\n빛의 결정 (사미엘)\\n...  \n",
      "83  그림 비사쥬\\n백작의 낡은 망토 (왈라키아 백작)\\n안티 매터 (암흑룡)\\n다크 크...  \n",
      "85   열정의화관\\n 파괴의뿔 \\n 열정의 투구 (이블 라바 스폰)\\n 다크 크리스탈 (...  \n",
      "87   그림 비사쥬\\n 전장의 투구\\n 파괴의 뿔\\n 용의 눈 (본 드래곤)\\n 대자연의...  \n",
      "89   나락의 눈\\n 용의 눈 (본 드래곤)\\n 화염의 결정 or 화염의 가호 (화신 이...  \n",
      "91   파괴의 뿔\\n 폭풍후의 화관 (스피릿 비스트)\\n 박쥐 날개 (왈라키아 괴인)\\n...  \n",
      "93   악마의 뿔\\n 신의 금속 (사미엘)\\n 폭풍의 결정 or 폭풍의 가호 (뇌신 발토...  \n",
      "95 Epic (alteia)\n",
      "False\n",
      "           극대노의 화관\\n(미구현)  400  Epic\\n(Gnosis)  공용  \\\n",
      "97         극대노의 화관\\n(미구현)  400  Epic\\n(Gnosis)  공용   \n",
      "99   후드 오브 \\n아포클립스\\n(미구현)  400  Epic\\n(Gnosis)  후드   \n",
      "101        절대자의 광휘\\n(미구현)  400  Epic\\n(Gnosis)  투구   \n",
      "\n",
      "    방어력 +410\\n모든 스탯 +840\\n스킬 데미지 +8%, 이동 속도 +15%\\n사용 시 극대노 발동\\nㄴ현재 HP의 50%을 소모\\nㄴ주변 800 반경 내 적에게 소모된 HP X 1000%의 순수 데미지를 가함\\nㄴ15초간 모든 능력치를 소모된 HP X 1% 만큼 (주 스탯은 2배), ㄴ불 속성 효율를 5% 만큼 증가\\nㄴ쿨다운: 30초  \\\n",
      "97   방어력 +410\\n모든 스탯 +840\\n스킬 데미지 +8%, 이동 속도 +15%\\n...                                                                                                                                                \n",
      "99   방어력 +540\\n•힘 & 민첩 +630, 지능 +880\\n•스킬 데미지 +5%\\n...                                                                                                                                                \n",
      "101  방어력 +875\\n•힘 +725\\n•민첩 +635\\n•공격 피해량 +15%\\n•공격...                                                                                                                                                \n",
      "\n",
      "    진노의 화관\\n주시자의 눈 (데스 핀드)\\n화산의 심장 (화신 이프리트)\\n용의 눈 (본 드래곤)\\n지옥의 파편 (지하 군주 아가레스)\\n빛나는 유적의 조각  \n",
      "97   진노의 화관\\n주시자의 눈 (데스 핀드)\\n화산의 심장 (화신 이프리트)\\n용의 눈...                                       \n",
      "99   •후드 오브 아포크리파\\n•주시자의 눈 (데스 핀드)\\n•위장자의 인장\\n•지옥의 ...                                       \n",
      "101  •심판의 헤일로\\n•위서의 한 페이지 (주천사 사미엘)\\n•군주의 징표 (지하 군주...                                       \n"
     ]
    }
   ],
   "source": [
    "# print(6 != len(idx_TopHead))\n",
    "getRankTable(df, bigCategComb)"
   ]
  },
  {
   "cell_type": "markdown",
   "metadata": {},
   "source": [
    "## 3. 조합법의 갯수로 묶기.\n",
    "- 즉, Counter클래스로 통합하기 위한 것.\n",
    "1. item 이름에 () 대상을 삭제한다. \n",
    "    - 이는 나중의 아이템이름과 매칭해서 몬스터 이름을 가져오면된다고 생각함.\n",
    "2. 조합아이템 이름안에 이미 숫자가 적혀져서 몇개인지 나타내는 경우가 있다.\n",
    "    - 이는 정규식으로 활용해본다.\n",
    "3. 해당 정규식으로 구분한 것을 Counter클래스로 만들기.\n",
    "4. 이모든걸 하나의  Counter 클래스로만들기."
   ]
  },
  {
   "cell_type": "markdown",
   "metadata": {},
   "source": [
    "### 1) item 이름에 () 삭제 "
   ]
  },
  {
   "cell_type": "code",
   "execution_count": 151,
   "metadata": {
    "scrolled": true
   },
   "outputs": [
    {
     "data": {
      "text/plain": [
       "['용투 아그론 (데드렉트)', '드래곤 스케일 (데드렉트)', '오리하르콘 (잭 오 랜턴)', '철광석 x30']"
      ]
     },
     "execution_count": 151,
     "metadata": {},
     "output_type": "execute_result"
    }
   ],
   "source": [
    "Test01_split = Tests01['조합법'][33].split('\\n')\n",
    "Test01_split"
   ]
  },
  {
   "cell_type": "code",
   "execution_count": 164,
   "metadata": {},
   "outputs": [
    {
     "data": {
      "text/plain": [
       "'용투 아그론 '"
      ]
     },
     "execution_count": 164,
     "metadata": {},
     "output_type": "execute_result"
    }
   ],
   "source": [
    "msg = '용투 아그론 (데드렉트)'\n",
    "re.sub(r'\\(.*\\)','' , msg)"
   ]
  },
  {
   "cell_type": "code",
   "execution_count": 170,
   "metadata": {},
   "outputs": [
    {
     "data": {
      "text/plain": [
       "['용투 아그론', '드래곤 스케일', '오리하르콘', '철광석 x30']"
      ]
     },
     "execution_count": 170,
     "metadata": {},
     "output_type": "execute_result"
    }
   ],
   "source": [
    "Test01_split_rm =list(map( lambda x : re.sub(r'\\(.*\\)','',x).strip() , Test01_split))\n",
    "Test01_split_rm"
   ]
  },
  {
   "cell_type": "markdown",
   "metadata": {},
   "source": [
    "### 2) 정규식활용하여 나누기."
   ]
  },
  {
   "cell_type": "code",
   "execution_count": 182,
   "metadata": {},
   "outputs": [
    {
     "data": {
      "text/plain": [
       "['용투 아그론', '드래곤 스케일', '오리하르콘', ['철광석 ', '30']]"
      ]
     },
     "execution_count": 182,
     "metadata": {},
     "output_type": "execute_result"
    }
   ],
   "source": [
    "list(map(lambda x : x.split(re.search(r'[0-9]|[a-z]', x).group()) if re.search(r'[0-9]|[a-z]', x) else x , Test01_split_rm  ) )   `"
   ]
  },
  {
   "cell_type": "markdown",
   "metadata": {},
   "source": [
    "### 3) list 안의 list를 Counter 클래스로 맹글기.\n",
    "- 해당 list가 아무튼 단 하나의 Counter로 뭉치기."
   ]
  },
  {
   "cell_type": "code",
   "execution_count": 192,
   "metadata": {},
   "outputs": [],
   "source": [
    "from collections import Counter\n",
    "TestC = list(map(lambda x : x.split(re.search(r'[0-9]|[a-z]', x).group()) if re.search(r'[0-9]|[a-z]', x) else x , Test01_split_rm  ) )\n",
    "target = TestC[3]\n",
    "target\n",
    "# list to dict\n",
    "dict().get(target[0])"
   ]
  },
  {
   "cell_type": "code",
   "execution_count": null,
   "metadata": {},
   "outputs": [],
   "source": [
    "from collections import Counter\n",
    "def targetItemsCounter(table):\n",
    "    pass\n",
    "targetItemsCounter()"
   ]
  },
  {
   "cell_type": "markdown",
   "metadata": {},
   "source": [
    "### List Per Categ"
   ]
  },
  {
   "cell_type": "code",
   "execution_count": null,
   "metadata": {},
   "outputs": [],
   "source": []
  }
 ],
 "metadata": {
  "kernelspec": {
   "display_name": "Python 3",
   "language": "python",
   "name": "python3"
  },
  "language_info": {
   "codemirror_mode": {
    "name": "ipython",
    "version": 3
   },
   "file_extension": ".py",
   "mimetype": "text/x-python",
   "name": "python",
   "nbconvert_exporter": "python",
   "pygments_lexer": "ipython3",
   "version": "3.7.6"
  }
 },
 "nbformat": 4,
 "nbformat_minor": 4
}
