{
 "cells": [
  {
   "cell_type": "code",
   "execution_count": 158,
   "metadata": {},
   "outputs": [],
   "source": [
    "import pandas as pd"
   ]
  },
  {
   "cell_type": "markdown",
   "metadata": {},
   "source": [
    "- URL : https://stackoverflow.com/questions/3368969/find-string-between-two-substrings  \n",
    "\n",
    "Getting some sort of modification date in a cross-platform way is easy - just call os.path.getmtime(path) and you'll get the Unix timestamp of when the file at path was last modified.\n",
    "\n",
    "Getting file creation dates, on the other hand, is fiddly and platform-dependent, differing even between the three big OSes:\n",
    "\n",
    "On Windows, a file's ctime (documented at https://msdn.microsoft.com/en-us/library/14h5k7ff.aspx) stores its creation date. You can access this in Python through os.path.getctime() or the .st_ctime attribute of the result of a call to os.stat(). This won't work on Unix, where the ctime is the last time that the file's attributes or content were changed.\n",
    "On Mac, as well as some other Unix-based OSes, you can use the .st_birthtime attribute of the result of a call to os.stat().\n",
    "On Linux, this is currently impossible, at least without writing a C extension for Python. Although some file systems commonly used with Linux do store creation dates (for example, ext4 stores them in st_crtime) , the Linux kernel offers no way of accessing them; in particular, the structs it returns from stat() calls in C, as of the latest kernel version, don't contain any creation date fields. You can also see that the identifier st_crtime doesn't currently feature anywhere in the Python source. At least if you're on ext4, the data is attached to the inodes in the file system, but there's no convenient way of accessing it.\n",
    "\n",
    "The next-best thing on Linux is to access the file's mtime, through either os.path.getmtime() or the .st_mtime attribute of an os.stat() result. This will give you the last time the file's content was modified, which may be adequate for some use cases.\n",
    "\n",
    "Putting this all together, cross-platform code should look something like this..."
   ]
  },
  {
   "cell_type": "code",
   "execution_count": 145,
   "metadata": {},
   "outputs": [],
   "source": [
    "import os\n",
    "import platform\n",
    "\n",
    "def creation_date(path_to_file):\n",
    "    \"\"\"\n",
    "    Try to get the date that a file was created, falling back to when it was\n",
    "    last modified if that isn't possible.\n",
    "    See http://stackoverflow.com/a/39501288/1709587 for explanation.\n",
    "    \"\"\"\n",
    "    if platform.system() == 'Windows':\n",
    "        return os.path.getctime(path_to_file)\n",
    "    else:\n",
    "        stat = os.stat(path_to_file)\n",
    "        try:\n",
    "            return stat.st_birthtime\n",
    "        except AttributeError:\n",
    "            # We're probably on Linux. No easy way to get creation dates here,\n",
    "            # so we'll settle for when its content was last modified.\n",
    "            return stat.st_mtime"
   ]
  },
  {
   "cell_type": "code",
   "execution_count": 148,
   "metadata": {},
   "outputs": [
    {
     "data": {
      "text/plain": [
       "1583163298.0"
      ]
     },
     "execution_count": 148,
     "metadata": {},
     "output_type": "execute_result"
    }
   ],
   "source": [
    "creation_date('./data/SaveFile.txt')"
   ]
  },
  {
   "cell_type": "code",
   "execution_count": 149,
   "metadata": {},
   "outputs": [
    {
     "name": "stdout",
     "output_type": "stream",
     "text": [
      "dt_object = 2018-12-25 18:27:53\n",
      "type(dt_object) = <class 'datetime.datetime'>\n"
     ]
    }
   ],
   "source": [
    "# https://www.programiz.com/python-programming/datetime/timestamp-datetime\n",
    "from datetime import datetime\n",
    "\n",
    "timestamp = 1545730073\n",
    "dt_object = datetime.fromtimestamp(timestamp)\n",
    "\n",
    "print(\"dt_object =\", dt_object)\n",
    "print(\"type(dt_object) =\", type(dt_object))"
   ]
  },
  {
   "cell_type": "code",
   "execution_count": 150,
   "metadata": {},
   "outputs": [
    {
     "name": "stdout",
     "output_type": "stream",
     "text": [
      "dt_object = 2020-03-03 00:34:58\n",
      "type(dt_object) = <class 'datetime.datetime'>\n"
     ]
    }
   ],
   "source": [
    "timestamp = creation_date('./data/SaveFile.txt')\n",
    "dt_object = datetime.fromtimestamp(timestamp)\n",
    "\n",
    "print(\"dt_object =\", dt_object)\n",
    "print(\"type(dt_object) =\", type(dt_object))"
   ]
  },
  {
   "cell_type": "code",
   "execution_count": 15,
   "metadata": {},
   "outputs": [],
   "source": [
    "import os\n",
    "import os.path\n",
    "dirPath = './data/'\n",
    "def getFileList(dirPath=dirPath):\n",
    "#     print(os.listdir(dirPath))\n",
    "#         print(os.path.isdir(dirPath)) # True\n",
    "    if os.path.isdir(dirPath):\n",
    "        fileList = os.listdir(dirPath)\n",
    "        print(fileList)\n",
    "        return fileList\n",
    "    else :\n",
    "        print(dirPath, '라는 폴더가 존재하지 않습니다.')"
   ]
  },
  {
   "cell_type": "code",
   "execution_count": 17,
   "metadata": {},
   "outputs": [],
   "source": [
    "def getFile(fileIdx, fileList ,dirPath=dirPath):\n",
    "    fileName = fileList[fileIdx]\n",
    "    file = dirPath + fileName\n",
    "    return file"
   ]
  },
  {
   "cell_type": "code",
   "execution_count": 41,
   "metadata": {
    "scrolled": true
   },
   "outputs": [
    {
     "data": {
      "text/plain": [
       "'function PreloadFiles takes nothing returns nothing\\n\\n\\tcall Preload( \"---------------------------------------\" )\\n\\tcall Preload( \"아이디: hydran1\" )\\n\\tcall Preload( \"플레이 버전: 0.31g Lazy fix1\" )\\n\\tcall Preload( \"호환되는 버전: 0.24c~\" )\\n\\tcall Preload( \"직업: 랜서\" )\\n\\tcall Preload( \"레벨: 420\" )\\n\\tcall Preload( \"현재 경험치 / 다음 레벨까지의 경험치: 8840900 / 8883000\" )\\n\\tcall Preload( \"----------영웅 아이템----------\" )\\n\\tcall Preload( \"1. 천지창조\" )\\n\\tcall Preload( \"2. 번개의 창 티베리우스\" )\\n\\tcall Preload( \"3. 타락한 불꽃의 망토\" )\\n\\tcall Preload( \"4. 악마의 뿔\" )\\n\\tcall Preload( \"5. 혼돈의 반지 라테아\" )\\n\\tcall Preload( \"----------배낭----------\" )\\n\\tcall Preload( \"1. 다크 매터\" )\\n\\tcall Preload( \"2. 봉인된 대천사의 날개\" )\\n\\tcall Preload( \"3. 천사의 깃털 결정\" )\\n\\tcall Preload( \"4. 탄식의 갑주 레퀴엠\" )\\n\\tcall Preload( \"5. 정화의 증표\" )\\n\\tcall Preload( \"6. 순수의 강철\" )\\n\\tcall Preload( \"7. 아다만티움\" )\\n\\tcall Preload( \"8. 신의 금속\" )\\n\\tcall Preload( \"9. 악몽의 기운\" )\\n\\tcall Preload( \"10. 타락의 포션\" )\\n\\tcall Preload( \"11. 슬레이어 부츠\" )\\n\\tcall Preload( \"12. 순수의 강철\" )\\n\\tcall Preload( \"13. 다크 크리스탈\" )\\n\\tcall Preload( \"14. 플레임샤드 아머\" )\\n\\tcall Preload( \"15. 백작의 낡은 망토\" )\\n\\tcall Preload( \"16. 다크 매터\" )\\n\\tcall Preload( \"17. 천류의 창 아글라이아\" )\\n\\tcall Preload( \"18. 대지의 갑주\" )\\n\\tcall Preload( \"19. 폭풍의 반지\" )\\n\\tcall Preload( \"20. 바람의 조각\" )\\n\\tcall Preload( \"21. 낡은 유적의 조각\" )\\n\\tcall Preload( \"22. 불로의 심장\" )\\n\\tcall Preload( \"23. 빛의 결정\" )\\n\\tcall Preload( \"24. 다크 크리스탈\" )\\n\\tcall Preload( \"----------창고----------\" )\\n\\tcall Preload( \"---------------------------------------\" )\\n\\tcall Preload( \"로드 코드 1: -load PZWADswNzfUjFF6zBzNy@q1O%fxO6jso3QOMaK3hYXKu75kOFFwq$36nn01C3$FTNkad81sTa86%KKgb%sV\" )\\n\\tcall PreloadEnd( 0.0 )\\n\\nendfunction\\n\\n\\n'"
      ]
     },
     "execution_count": 41,
     "metadata": {},
     "output_type": "execute_result"
    }
   ],
   "source": [
    "fileList = getFileList()\n",
    "file = getFile(0, fileList)\n",
    "with open(file) as f:\n",
    "    saveFile=f.read()\n",
    "# tmpF = pd.read_excel(./data/)\n",
    "saveFile"
   ]
  },
  {
   "cell_type": "markdown",
   "metadata": {},
   "source": [
    "## 제대로된것"
   ]
  },
  {
   "cell_type": "code",
   "execution_count": 85,
   "metadata": {},
   "outputs": [
    {
     "data": {
      "text/plain": [
       "['---------------------------------------',\n",
       " '아이디: hydran1',\n",
       " '플레이 버전: 0.31g Lazy fix1',\n",
       " '호환되는 버전: 0.24c~',\n",
       " '직업: 랜서',\n",
       " '레벨: 420',\n",
       " '현재 경험치 / 다음 레벨까지의 경험치: 8840900 / 8883000',\n",
       " '----------영웅 아이템----------',\n",
       " '1. 천지창조',\n",
       " '2. 번개의 창 티베리우스']"
      ]
     },
     "execution_count": 85,
     "metadata": {},
     "output_type": "execute_result"
    }
   ],
   "source": [
    "import re\n",
    "finalList = re.findall('\"(.*)\"', saveFile)\n",
    "\n",
    "## Series별로 나누기\n",
    "# 컬럼1. ---------------------------------------\n",
    "# 2.----------영웅 아이템----------\n",
    "# 3.----------배낭----------\n",
    "# 4.로드 코드 1\n",
    "LoadCode = finalList[-1]\n",
    "finalList = finalList[:-1]\n",
    "finalList[:10]"
   ]
  },
  {
   "cell_type": "code",
   "execution_count": null,
   "metadata": {},
   "outputs": [],
   "source": [
    "targetList = ['---------------------------------------', '----------영웅 아이템----------', '----------배낭----------']\n",
    "def setColumn(targetList, baseList):\n",
    "    print(targetList)\n",
    "    return [ baseList.index(target) for target in targetList ]"
   ]
  },
  {
   "cell_type": "code",
   "execution_count": 110,
   "metadata": {
    "scrolled": true
   },
   "outputs": [
    {
     "name": "stdout",
     "output_type": "stream",
     "text": [
      "['---------------------------------------', '----------영웅 아이템----------', '----------배낭----------']\n"
     ]
    }
   ],
   "source": [
    "cIdx = setColumn(targetList, finalList)"
   ]
  },
  {
   "cell_type": "code",
   "execution_count": 112,
   "metadata": {},
   "outputs": [],
   "source": [
    "#3 List내포문\n",
    "lastIdx = len(cIdx) - 1\n",
    "colPerList = [ finalList[ cIdx[idx] + 1: cIdx[idx + 1] ] if idx != ( lastIdx ) else finalList[ cIdx[idx] + 1 :] for idx in range(len(cIdx)) ]"
   ]
  },
  {
   "cell_type": "code",
   "execution_count": 115,
   "metadata": {},
   "outputs": [
    {
     "data": {
      "text/plain": [
       "{'info': ['아이디: hydran1',\n",
       "  '플레이 버전: 0.31g Lazy fix1',\n",
       "  '호환되는 버전: 0.24c~',\n",
       "  '직업: 랜서',\n",
       "  '레벨: 420',\n",
       "  '현재 경험치 / 다음 레벨까지의 경험치: 8840900 / 8883000'],\n",
       " 'equip': ['1. 천지창조',\n",
       "  '2. 번개의 창 티베리우스',\n",
       "  '3. 타락한 불꽃의 망토',\n",
       "  '4. 악마의 뿔',\n",
       "  '5. 혼돈의 반지 라테아'],\n",
       " 'items': ['1. 다크 매터',\n",
       "  '2. 봉인된 대천사의 날개',\n",
       "  '3. 천사의 깃털 결정',\n",
       "  '4. 탄식의 갑주 레퀴엠',\n",
       "  '5. 정화의 증표',\n",
       "  '6. 순수의 강철',\n",
       "  '7. 아다만티움',\n",
       "  '8. 신의 금속',\n",
       "  '9. 악몽의 기운',\n",
       "  '10. 타락의 포션',\n",
       "  '11. 슬레이어 부츠',\n",
       "  '12. 순수의 강철',\n",
       "  '13. 다크 크리스탈',\n",
       "  '14. 플레임샤드 아머',\n",
       "  '15. 백작의 낡은 망토',\n",
       "  '16. 다크 매터',\n",
       "  '17. 천류의 창 아글라이아',\n",
       "  '18. 대지의 갑주',\n",
       "  '19. 폭풍의 반지',\n",
       "  '20. 바람의 조각',\n",
       "  '21. 낡은 유적의 조각',\n",
       "  '22. 불로의 심장',\n",
       "  '23. 빛의 결정',\n",
       "  '24. 다크 크리스탈',\n",
       "  '----------창고----------',\n",
       "  '---------------------------------------'],\n",
       " 'load': ['로드 코드 1: -load PZWADswNzfUjFF6zBzNy@q1O%fxO6jso3QOMaK3hYXKu75kOFFwq$36nn01C3$FTNkad81sTa86%KKgb%sV']}"
      ]
     },
     "execution_count": 115,
     "metadata": {},
     "output_type": "execute_result"
    }
   ],
   "source": [
    "myColumns = [ 'info', 'equip', 'items', 'load' ]\n",
    "data = {}\n",
    "for i in range(len(myColumns)):\n",
    "    data[myColumns[i]] = colPerList[i] if i < ( len(myColumns) -1 ) else [LoadCode]\n",
    "data"
   ]
  },
  {
   "cell_type": "markdown",
   "metadata": {},
   "source": [
    "## data Dict안의 것들을 정제하기\n",
    "1. : 구분\n",
    "2. 숫자 삭제."
   ]
  },
  {
   "cell_type": "code",
   "execution_count": 156,
   "metadata": {},
   "outputs": [
    {
     "data": {
      "text/plain": [
       "['-load PZWADswNzfUjFF6zBzNy@q1O%fxO6jso3QOMaK3hYXKu75kOFFwq$36nn01C3$FTNkad81sTa86%KKgb%sV']"
      ]
     },
     "execution_count": 156,
     "metadata": {},
     "output_type": "execute_result"
    }
   ],
   "source": [
    "list(map( lambda x: x.split(':') , data['info'] ))\n",
    "list(map( lambda x : x.split('.')[0] , data['info'] ))\n",
    "list(map( lambda x : x.split('.')[1].strip() , data['equip'] ))\n",
    "# Condition =  str이 .을 가지고 있지않다면 -1\n",
    "list(map(lambda x: x.split('.')[1].strip() if x.find('.') != -1 else x , data['items'] ))\n",
    "list(map( lambda x : x.split(\":\")[1].strip() , data['load']) )"
   ]
  },
  {
   "cell_type": "markdown",
   "metadata": {},
   "source": [
    "### Dict TestCase"
   ]
  },
  {
   "cell_type": "code",
   "execution_count": 119,
   "metadata": {},
   "outputs": [
    {
     "data": {
      "text/plain": [
       "['아이디: hydran1',\n",
       " '플레이 버전: 0.31g Lazy fix1',\n",
       " '호환되는 버전: 0.24c~',\n",
       " '직업: 랜서',\n",
       " '레벨: 420',\n",
       " '현재 경험치 / 다음 레벨까지의 경험치: 8840900 / 8883000']"
      ]
     },
     "execution_count": 119,
     "metadata": {},
     "output_type": "execute_result"
    }
   ],
   "source": [
    "data['info']"
   ]
  },
  {
   "cell_type": "code",
   "execution_count": 128,
   "metadata": {},
   "outputs": [
    {
     "data": {
      "text/plain": [
       "[['아이디', ' hydran1'],\n",
       " ['플레이 버전', ' 0.31g Lazy fix1'],\n",
       " ['호환되는 버전', ' 0.24c~'],\n",
       " ['직업', ' 랜서'],\n",
       " ['레벨', ' 420'],\n",
       " ['현재 경험치 / 다음 레벨까지의 경험치', ' 8840900 / 8883000']]"
      ]
     },
     "execution_count": 128,
     "metadata": {},
     "output_type": "execute_result"
    }
   ],
   "source": [
    "list(map( lambda x: x.split(':') , data['info'] ))"
   ]
  },
  {
   "cell_type": "code",
   "execution_count": 155,
   "metadata": {},
   "outputs": [
    {
     "data": {
      "text/plain": [
       "['아이디', '플레이 버전', '호환되는 버전', '직업', '레벨', '현재 경험치 / 다음 레벨까지의 경험치']"
      ]
     },
     "execution_count": 155,
     "metadata": {},
     "output_type": "execute_result"
    }
   ],
   "source": [
    "list(map( lambda x : x.split(':')[0] , data['info'] ))"
   ]
  },
  {
   "cell_type": "code",
   "execution_count": 130,
   "metadata": {},
   "outputs": [
    {
     "data": {
      "text/plain": [
       "['1. 천지창조', '2. 번개의 창 티베리우스', '3. 타락한 불꽃의 망토', '4. 악마의 뿔', '5. 혼돈의 반지 라테아']"
      ]
     },
     "execution_count": 130,
     "metadata": {},
     "output_type": "execute_result"
    }
   ],
   "source": [
    "data['equip']"
   ]
  },
  {
   "cell_type": "code",
   "execution_count": 138,
   "metadata": {},
   "outputs": [
    {
     "data": {
      "text/plain": [
       "['천지창조', '번개의 창 티베리우스', '타락한 불꽃의 망토', '악마의 뿔', '혼돈의 반지 라테아']"
      ]
     },
     "execution_count": 138,
     "metadata": {},
     "output_type": "execute_result"
    }
   ],
   "source": [
    "list(map( lambda x : x.split('.')[1].strip() , data['equip'] ))"
   ]
  },
  {
   "cell_type": "code",
   "execution_count": 139,
   "metadata": {},
   "outputs": [
    {
     "data": {
      "text/plain": [
       "['1. 다크 매터',\n",
       " '2. 봉인된 대천사의 날개',\n",
       " '3. 천사의 깃털 결정',\n",
       " '4. 탄식의 갑주 레퀴엠',\n",
       " '5. 정화의 증표',\n",
       " '6. 순수의 강철',\n",
       " '7. 아다만티움',\n",
       " '8. 신의 금속',\n",
       " '9. 악몽의 기운',\n",
       " '10. 타락의 포션',\n",
       " '11. 슬레이어 부츠',\n",
       " '12. 순수의 강철',\n",
       " '13. 다크 크리스탈',\n",
       " '14. 플레임샤드 아머',\n",
       " '15. 백작의 낡은 망토',\n",
       " '16. 다크 매터',\n",
       " '17. 천류의 창 아글라이아',\n",
       " '18. 대지의 갑주',\n",
       " '19. 폭풍의 반지',\n",
       " '20. 바람의 조각',\n",
       " '21. 낡은 유적의 조각',\n",
       " '22. 불로의 심장',\n",
       " '23. 빛의 결정',\n",
       " '24. 다크 크리스탈',\n",
       " '----------창고----------',\n",
       " '---------------------------------------']"
      ]
     },
     "execution_count": 139,
     "metadata": {},
     "output_type": "execute_result"
    }
   ],
   "source": [
    "data['items']"
   ]
  },
  {
   "cell_type": "code",
   "execution_count": 143,
   "metadata": {},
   "outputs": [
    {
     "data": {
      "text/plain": [
       "[True,\n",
       " True,\n",
       " True,\n",
       " True,\n",
       " True,\n",
       " True,\n",
       " True,\n",
       " True,\n",
       " True,\n",
       " True,\n",
       " True,\n",
       " True,\n",
       " True,\n",
       " True,\n",
       " True,\n",
       " True,\n",
       " True,\n",
       " True,\n",
       " True,\n",
       " True,\n",
       " True,\n",
       " True,\n",
       " True,\n",
       " True,\n",
       " False,\n",
       " False]"
      ]
     },
     "execution_count": 143,
     "metadata": {},
     "output_type": "execute_result"
    }
   ],
   "source": [
    "list(map(lambda x: True if x.find('.') != -1 else False , data['items'] ))"
   ]
  },
  {
   "cell_type": "code",
   "execution_count": 144,
   "metadata": {
    "scrolled": true
   },
   "outputs": [
    {
     "data": {
      "text/plain": [
       "['다크 매터',\n",
       " '봉인된 대천사의 날개',\n",
       " '천사의 깃털 결정',\n",
       " '탄식의 갑주 레퀴엠',\n",
       " '정화의 증표',\n",
       " '순수의 강철',\n",
       " '아다만티움',\n",
       " '신의 금속',\n",
       " '악몽의 기운',\n",
       " '타락의 포션',\n",
       " '슬레이어 부츠',\n",
       " '순수의 강철',\n",
       " '다크 크리스탈',\n",
       " '플레임샤드 아머',\n",
       " '백작의 낡은 망토',\n",
       " '다크 매터',\n",
       " '천류의 창 아글라이아',\n",
       " '대지의 갑주',\n",
       " '폭풍의 반지',\n",
       " '바람의 조각',\n",
       " '낡은 유적의 조각',\n",
       " '불로의 심장',\n",
       " '빛의 결정',\n",
       " '다크 크리스탈',\n",
       " '----------창고----------',\n",
       " '---------------------------------------']"
      ]
     },
     "execution_count": 144,
     "metadata": {},
     "output_type": "execute_result"
    }
   ],
   "source": [
    "# Condition =  str이 .을 가지고 있지않다면 -1\n",
    "list(map(lambda x: x.split('.')[1].strip() if x.find('.') != -1 else x , data['items'] ))"
   ]
  },
  {
   "cell_type": "code",
   "execution_count": 159,
   "metadata": {},
   "outputs": [
    {
     "data": {
      "text/plain": [
       "Counter({'다크 매터': 2,\n",
       "         '봉인된 대천사의 날개': 1,\n",
       "         '천사의 깃털 결정': 1,\n",
       "         '탄식의 갑주 레퀴엠': 1,\n",
       "         '정화의 증표': 1,\n",
       "         '순수의 강철': 2,\n",
       "         '아다만티움': 1,\n",
       "         '신의 금속': 1,\n",
       "         '악몽의 기운': 1,\n",
       "         '타락의 포션': 1,\n",
       "         '슬레이어 부츠': 1,\n",
       "         '다크 크리스탈': 2,\n",
       "         '플레임샤드 아머': 1,\n",
       "         '백작의 낡은 망토': 1,\n",
       "         '천류의 창 아글라이아': 1,\n",
       "         '대지의 갑주': 1,\n",
       "         '폭풍의 반지': 1,\n",
       "         '바람의 조각': 1,\n",
       "         '낡은 유적의 조각': 1,\n",
       "         '불로의 심장': 1,\n",
       "         '빛의 결정': 1,\n",
       "         '----------창고----------': 1,\n",
       "         '---------------------------------------': 1})"
      ]
     },
     "execution_count": 159,
     "metadata": {},
     "output_type": "execute_result"
    }
   ],
   "source": [
    "from collections import Counter\n",
    "testitems = list(map(lambda x: x.split('.')[1].strip() if x.find('.') != -1 else x , data['items'] ))\n",
    "Counter(testitems)"
   ]
  },
  {
   "cell_type": "code",
   "execution_count": 151,
   "metadata": {},
   "outputs": [
    {
     "data": {
      "text/plain": [
       "['로드 코드 1: -load PZWADswNzfUjFF6zBzNy@q1O%fxO6jso3QOMaK3hYXKu75kOFFwq$36nn01C3$FTNkad81sTa86%KKgb%sV']"
      ]
     },
     "execution_count": 151,
     "metadata": {},
     "output_type": "execute_result"
    }
   ],
   "source": [
    "data['load']"
   ]
  },
  {
   "cell_type": "code",
   "execution_count": 153,
   "metadata": {},
   "outputs": [
    {
     "data": {
      "text/plain": [
       "['-load PZWADswNzfUjFF6zBzNy@q1O%fxO6jso3QOMaK3hYXKu75kOFFwq$36nn01C3$FTNkad81sTa86%KKgb%sV']"
      ]
     },
     "execution_count": 153,
     "metadata": {},
     "output_type": "execute_result"
    }
   ],
   "source": [
    "list(map( lambda x : x.split(\":\")[1].strip() , data['load']) )"
   ]
  },
  {
   "cell_type": "code",
   "execution_count": 122,
   "metadata": {},
   "outputs": [
    {
     "data": {
      "text/plain": [
       "0                                [아이디,  hydran1]\n",
       "1                     [플레이 버전,  0.31g Lazy fix1]\n",
       "2                             [호환되는 버전,  0.24c~]\n",
       "3                                      [직업,  랜서]\n",
       "4                                     [레벨,  420]\n",
       "5    [현재 경험치 / 다음 레벨까지의 경험치,  8840900 / 8883000]\n",
       "dtype: object"
      ]
     },
     "execution_count": 122,
     "metadata": {},
     "output_type": "execute_result"
    }
   ],
   "source": [
    "pd.Series(data['info'])\n",
    "pd.Series(data['info']).apply(lambda x : x.split(':'))"
   ]
  },
  {
   "cell_type": "markdown",
   "metadata": {},
   "source": [
    "## Seperate  Testcase\n",
    "- 내가 원하는 바를 아래에서 계속 정리"
   ]
  },
  {
   "cell_type": "code",
   "execution_count": 97,
   "metadata": {
    "scrolled": true
   },
   "outputs": [
    {
     "name": "stdout",
     "output_type": "stream",
     "text": [
      "['---------------------------------------', '----------영웅 아이템----------', '----------배낭----------']\n"
     ]
    },
    {
     "data": {
      "text/plain": [
       "(['아이디: hydran1',\n",
       "  '플레이 버전: 0.31g Lazy fix1',\n",
       "  '호환되는 버전: 0.24c~',\n",
       "  '직업: 랜서',\n",
       "  '레벨: 420',\n",
       "  '현재 경험치 / 다음 레벨까지의 경험치: 8840900 / 8883000'],\n",
       " ['1. 천지창조', '2. 번개의 창 티베리우스', '3. 타락한 불꽃의 망토', '4. 악마의 뿔', '5. 혼돈의 반지 라테아'],\n",
       " ['1. 다크 매터',\n",
       "  '2. 봉인된 대천사의 날개',\n",
       "  '3. 천사의 깃털 결정',\n",
       "  '4. 탄식의 갑주 레퀴엠',\n",
       "  '5. 정화의 증표',\n",
       "  '6. 순수의 강철',\n",
       "  '7. 아다만티움',\n",
       "  '8. 신의 금속',\n",
       "  '9. 악몽의 기운',\n",
       "  '10. 타락의 포션',\n",
       "  '11. 슬레이어 부츠',\n",
       "  '12. 순수의 강철',\n",
       "  '13. 다크 크리스탈',\n",
       "  '14. 플레임샤드 아머',\n",
       "  '15. 백작의 낡은 망토',\n",
       "  '16. 다크 매터',\n",
       "  '17. 천류의 창 아글라이아',\n",
       "  '18. 대지의 갑주',\n",
       "  '19. 폭풍의 반지',\n",
       "  '20. 바람의 조각',\n",
       "  '21. 낡은 유적의 조각',\n",
       "  '22. 불로의 심장',\n",
       "  '23. 빛의 결정',\n",
       "  '24. 다크 크리스탈',\n",
       "  '----------창고----------',\n",
       "  '---------------------------------------'])"
      ]
     },
     "execution_count": 97,
     "metadata": {},
     "output_type": "execute_result"
    }
   ],
   "source": [
    "#1 임시로 손으로작성\n",
    "test = setColumn(targetList, finalList)\n",
    "finalList[0+1:7], finalList[7+1:13], finalList[13+1:]\n"
   ]
  },
  {
   "cell_type": "code",
   "execution_count": 100,
   "metadata": {
    "scrolled": true
   },
   "outputs": [
    {
     "ename": "NameError",
     "evalue": "name 'enumulate' is not defined",
     "output_type": "error",
     "traceback": [
      "\u001b[0;31m---------------------------------------------------------------------------\u001b[0m",
      "\u001b[0;31mNameError\u001b[0m                                 Traceback (most recent call last)",
      "\u001b[0;32m<ipython-input-100-792b6f678a63>\u001b[0m in \u001b[0;36m<module>\u001b[0;34m\u001b[0m\n\u001b[0;32m----> 1\u001b[0;31m \u001b[0;34m[\u001b[0m\u001b[0midx\u001b[0m \u001b[0;32mfor\u001b[0m \u001b[0midx\u001b[0m\u001b[0;34m,\u001b[0m \u001b[0m_\u001b[0m \u001b[0;32min\u001b[0m \u001b[0menumulate\u001b[0m\u001b[0;34m(\u001b[0m\u001b[0mfinalList\u001b[0m\u001b[0;34m)\u001b[0m\u001b[0;34m]\u001b[0m\u001b[0;34m\u001b[0m\u001b[0;34m\u001b[0m\u001b[0m\n\u001b[0m",
      "\u001b[0;31mNameError\u001b[0m: name 'enumulate' is not defined"
     ]
    }
   ],
   "source": []
  },
  {
   "cell_type": "markdown",
   "metadata": {},
   "source": [
    "### Architecture\n",
    "- Condition = the index is lastindex?\n",
    "- finalList[sIdx + 1: eIdx] if {Condition}  else finalList[sIdx:]"
   ]
  },
  {
   "cell_type": "code",
   "execution_count": 107,
   "metadata": {},
   "outputs": [
    {
     "name": "stdout",
     "output_type": "stream",
     "text": [
      "['아이디: hydran1', '플레이 버전: 0.31g Lazy fix1', '호환되는 버전: 0.24c~', '직업: 랜서', '레벨: 420', '현재 경험치 / 다음 레벨까지의 경험치: 8840900 / 8883000']\n",
      "['1. 천지창조', '2. 번개의 창 티베리우스', '3. 타락한 불꽃의 망토', '4. 악마의 뿔', '5. 혼돈의 반지 라테아']\n",
      "['1. 다크 매터', '2. 봉인된 대천사의 날개', '3. 천사의 깃털 결정', '4. 탄식의 갑주 레퀴엠', '5. 정화의 증표', '6. 순수의 강철', '7. 아다만티움', '8. 신의 금속', '9. 악몽의 기운', '10. 타락의 포션', '11. 슬레이어 부츠', '12. 순수의 강철', '13. 다크 크리스탈', '14. 플레임샤드 아머', '15. 백작의 낡은 망토', '16. 다크 매터', '17. 천류의 창 아글라이아', '18. 대지의 갑주', '19. 폭풍의 반지', '20. 바람의 조각', '21. 낡은 유적의 조각', '22. 불로의 심장', '23. 빛의 결정', '24. 다크 크리스탈', '----------창고----------', '---------------------------------------']\n"
     ]
    }
   ],
   "source": [
    "#2 for문\n",
    "lastIdx = len(test) - 1\n",
    "for idx in range(len(test)):\n",
    "    #     print(idx)\n",
    "    tmp = finalList[ test[idx] + 1: test[idx + 1] ] if idx != ( lastIdx ) else finalList[ test[idx] + 1 :]\n",
    "    print(tmp)"
   ]
  },
  {
   "cell_type": "code",
   "execution_count": 108,
   "metadata": {
    "collapsed": true
   },
   "outputs": [
    {
     "data": {
      "text/plain": [
       "[['아이디: hydran1',\n",
       "  '플레이 버전: 0.31g Lazy fix1',\n",
       "  '호환되는 버전: 0.24c~',\n",
       "  '직업: 랜서',\n",
       "  '레벨: 420',\n",
       "  '현재 경험치 / 다음 레벨까지의 경험치: 8840900 / 8883000'],\n",
       " ['1. 천지창조', '2. 번개의 창 티베리우스', '3. 타락한 불꽃의 망토', '4. 악마의 뿔', '5. 혼돈의 반지 라테아'],\n",
       " ['1. 다크 매터',\n",
       "  '2. 봉인된 대천사의 날개',\n",
       "  '3. 천사의 깃털 결정',\n",
       "  '4. 탄식의 갑주 레퀴엠',\n",
       "  '5. 정화의 증표',\n",
       "  '6. 순수의 강철',\n",
       "  '7. 아다만티움',\n",
       "  '8. 신의 금속',\n",
       "  '9. 악몽의 기운',\n",
       "  '10. 타락의 포션',\n",
       "  '11. 슬레이어 부츠',\n",
       "  '12. 순수의 강철',\n",
       "  '13. 다크 크리스탈',\n",
       "  '14. 플레임샤드 아머',\n",
       "  '15. 백작의 낡은 망토',\n",
       "  '16. 다크 매터',\n",
       "  '17. 천류의 창 아글라이아',\n",
       "  '18. 대지의 갑주',\n",
       "  '19. 폭풍의 반지',\n",
       "  '20. 바람의 조각',\n",
       "  '21. 낡은 유적의 조각',\n",
       "  '22. 불로의 심장',\n",
       "  '23. 빛의 결정',\n",
       "  '24. 다크 크리스탈',\n",
       "  '----------창고----------',\n",
       "  '---------------------------------------']]"
      ]
     },
     "execution_count": 108,
     "metadata": {},
     "output_type": "execute_result"
    }
   ],
   "source": [
    "#3 List내포문\n",
    "lastIdx = len(test) - 1\n",
    "[ finalList[ test[idx] + 1: test[idx + 1] ] if idx != ( lastIdx ) else finalList[ test[idx] + 1 :] for idx in range(len(test)) ]"
   ]
  },
  {
   "cell_type": "code",
   "execution_count": null,
   "metadata": {},
   "outputs": [],
   "source": []
  },
  {
   "cell_type": "code",
   "execution_count": null,
   "metadata": {},
   "outputs": [],
   "source": []
  },
  {
   "cell_type": "code",
   "execution_count": null,
   "metadata": {},
   "outputs": [],
   "source": []
  },
  {
   "cell_type": "markdown",
   "metadata": {},
   "source": [
    "## regex TestCase"
   ]
  },
  {
   "cell_type": "code",
   "execution_count": null,
   "metadata": {},
   "outputs": [],
   "source": [
    "?re.match"
   ]
  },
  {
   "cell_type": "code",
   "execution_count": 54,
   "metadata": {},
   "outputs": [
    {
     "name": "stdout",
     "output_type": "stream",
     "text": [
      "python\n"
     ]
    }
   ],
   "source": [
    "import re\n",
    "p = re.compile('[a-z]+')\n",
    "m = p.match(\"python\")\n",
    "print(m.group())"
   ]
  },
  {
   "cell_type": "code",
   "execution_count": 56,
   "metadata": {},
   "outputs": [
    {
     "data": {
      "text/plain": [
       "'park 010-1234-1234'"
      ]
     },
     "execution_count": 56,
     "metadata": {},
     "output_type": "execute_result"
    }
   ],
   "source": [
    "p = re.compile(r\"\\w+\\s+\\d+[-]\\d+[-]\\d+\")\n",
    "m = p.search(\"park 010-1234-1234\")\n",
    "m.group()"
   ]
  },
  {
   "cell_type": "code",
   "execution_count": 66,
   "metadata": {},
   "outputs": [
    {
     "name": "stdout",
     "output_type": "stream",
     "text": [
      "foo%s bar\n"
     ]
    }
   ],
   "source": [
    "\n",
    "regex = re.compile('([a-zA-Z]\\\"[a-zA-Z])', re.S)\n",
    "myfile =  'foo\"s bar'\n",
    "myfile2 = regex.sub(lambda m: m.group().replace('\"',\"%\",1), myfile)\n",
    "print(myfile2)\n"
   ]
  },
  {
   "cell_type": "code",
   "execution_count": 69,
   "metadata": {},
   "outputs": [
    {
     "name": "stdout",
     "output_type": "stream",
     "text": [
      "[('9', '5', 'mm'), ('8', '6', 'mm')]\n",
      "measuring MEASUREMENT and previously measuring MEASUREMENT\n"
     ]
    }
   ],
   "source": [
    "# You can use re.sub() for the replacement\n",
    "#, and re.findall() to get all matched strings.\n",
    "# https://stackoverflow.com/questions/46023527/find-all-matches-of-a-pattern-and-replace-them-in-a-text\n",
    "\n",
    "measurement = re.compile(\"(\\d+(?:\\.\\d*)?)\\s*x\\s*(\\d+(?:\\.\\d*)?)\\s*(cm|mm|millimeter|centimeter|millimeters|centimeters)\")\n",
    "\n",
    "text = \"measuring 9 x 5 mm and previously measuring 8 x 6 mm\"\n",
    "\n",
    "values = re.findall(pattern=measurement, string=text)\n",
    "\n",
    "sub_text = re.sub(pattern=measurement, string=text, repl='MEASUREMENT')\n",
    "print(values)\n",
    "print(sub_text)"
   ]
  },
  {
   "cell_type": "code",
   "execution_count": 65,
   "metadata": {},
   "outputs": [
    {
     "data": {
      "text/plain": [
       "['\\n\\n', '\\n\\n', '\\n\\n\\n']"
      ]
     },
     "execution_count": 65,
     "metadata": {},
     "output_type": "execute_result"
    }
   ],
   "source": [
    "p = re.compile(r'\\n{2,}')\n",
    "m = p.findall(saveFile)\n",
    "m"
   ]
  },
  {
   "cell_type": "code",
   "execution_count": 71,
   "metadata": {},
   "outputs": [
    {
     "data": {
      "text/plain": [
       "'function PreloadFiles takes nothing returns nothing\\n\\tcall Preload( \"---------------------------------------\" )\\n\\tcall Preload( \"아이디: hydran1\" )\\n\\tcall Preload( \"플레이 버전: 0.31g Lazy fix1\" )\\n\\tcall Preload( \"호환되는 버전: 0.24c~\" )\\n\\tcall Preload( \"직업: 랜서\" )\\n\\tcall Preload( \"레벨: 420\" )\\n\\tcall Preload( \"현재 경험치 / 다음 레벨까지의 경험치: 8840900 / 8883000\" )\\n\\tcall Preload( \"----------영웅 아이템----------\" )\\n\\tcall Preload( \"1. 천지창조\" )\\n\\tcall Preload( \"2. 번개의 창 티베리우스\" )\\n\\tcall Preload( \"3. 타락한 불꽃의 망토\" )\\n\\tcall Preload( \"4. 악마의 뿔\" )\\n\\tcall Preload( \"5. 혼돈의 반지 라테아\" )\\n\\tcall Preload( \"----------배낭----------\" )\\n\\tcall Preload( \"1. 다크 매터\" )\\n\\tcall Preload( \"2. 봉인된 대천사의 날개\" )\\n\\tcall Preload( \"3. 천사의 깃털 결정\" )\\n\\tcall Preload( \"4. 탄식의 갑주 레퀴엠\" )\\n\\tcall Preload( \"5. 정화의 증표\" )\\n\\tcall Preload( \"6. 순수의 강철\" )\\n\\tcall Preload( \"7. 아다만티움\" )\\n\\tcall Preload( \"8. 신의 금속\" )\\n\\tcall Preload( \"9. 악몽의 기운\" )\\n\\tcall Preload( \"10. 타락의 포션\" )\\n\\tcall Preload( \"11. 슬레이어 부츠\" )\\n\\tcall Preload( \"12. 순수의 강철\" )\\n\\tcall Preload( \"13. 다크 크리스탈\" )\\n\\tcall Preload( \"14. 플레임샤드 아머\" )\\n\\tcall Preload( \"15. 백작의 낡은 망토\" )\\n\\tcall Preload( \"16. 다크 매터\" )\\n\\tcall Preload( \"17. 천류의 창 아글라이아\" )\\n\\tcall Preload( \"18. 대지의 갑주\" )\\n\\tcall Preload( \"19. 폭풍의 반지\" )\\n\\tcall Preload( \"20. 바람의 조각\" )\\n\\tcall Preload( \"21. 낡은 유적의 조각\" )\\n\\tcall Preload( \"22. 불로의 심장\" )\\n\\tcall Preload( \"23. 빛의 결정\" )\\n\\tcall Preload( \"24. 다크 크리스탈\" )\\n\\tcall Preload( \"----------창고----------\" )\\n\\tcall Preload( \"---------------------------------------\" )\\n\\tcall Preload( \"로드 코드 1: -load PZWADswNzfUjFF6zBzNy@q1O%fxO6jso3QOMaK3hYXKu75kOFFwq$36nn01C3$FTNkad81sTa86%KKgb%sV\" )\\n\\tcall PreloadEnd( 0.0 )\\nendfunction\\n'"
      ]
     },
     "execution_count": 71,
     "metadata": {},
     "output_type": "execute_result"
    }
   ],
   "source": [
    "p = re.compile(r'\\n{2,}')\n",
    "m = re.sub(pattern=p, string=saveFile, repl='\\n')\n",
    "m"
   ]
  },
  {
   "cell_type": "code",
   "execution_count": 72,
   "metadata": {},
   "outputs": [
    {
     "data": {
      "text/plain": [
       "['function PreloadFiles takes nothing returns nothing',\n",
       " '\\tcall Preload( \"---------------------------------------\" )',\n",
       " '\\tcall Preload( \"아이디: hydran1\" )',\n",
       " '\\tcall Preload( \"플레이 버전: 0.31g Lazy fix1\" )',\n",
       " '\\tcall Preload( \"호환되는 버전: 0.24c~\" )',\n",
       " '\\tcall Preload( \"직업: 랜서\" )',\n",
       " '\\tcall Preload( \"레벨: 420\" )',\n",
       " '\\tcall Preload( \"현재 경험치 / 다음 레벨까지의 경험치: 8840900 / 8883000\" )',\n",
       " '\\tcall Preload( \"----------영웅 아이템----------\" )',\n",
       " '\\tcall Preload( \"1. 천지창조\" )',\n",
       " '\\tcall Preload( \"2. 번개의 창 티베리우스\" )',\n",
       " '\\tcall Preload( \"3. 타락한 불꽃의 망토\" )',\n",
       " '\\tcall Preload( \"4. 악마의 뿔\" )',\n",
       " '\\tcall Preload( \"5. 혼돈의 반지 라테아\" )',\n",
       " '\\tcall Preload( \"----------배낭----------\" )',\n",
       " '\\tcall Preload( \"1. 다크 매터\" )',\n",
       " '\\tcall Preload( \"2. 봉인된 대천사의 날개\" )',\n",
       " '\\tcall Preload( \"3. 천사의 깃털 결정\" )',\n",
       " '\\tcall Preload( \"4. 탄식의 갑주 레퀴엠\" )',\n",
       " '\\tcall Preload( \"5. 정화의 증표\" )',\n",
       " '\\tcall Preload( \"6. 순수의 강철\" )',\n",
       " '\\tcall Preload( \"7. 아다만티움\" )',\n",
       " '\\tcall Preload( \"8. 신의 금속\" )',\n",
       " '\\tcall Preload( \"9. 악몽의 기운\" )',\n",
       " '\\tcall Preload( \"10. 타락의 포션\" )',\n",
       " '\\tcall Preload( \"11. 슬레이어 부츠\" )',\n",
       " '\\tcall Preload( \"12. 순수의 강철\" )',\n",
       " '\\tcall Preload( \"13. 다크 크리스탈\" )',\n",
       " '\\tcall Preload( \"14. 플레임샤드 아머\" )',\n",
       " '\\tcall Preload( \"15. 백작의 낡은 망토\" )',\n",
       " '\\tcall Preload( \"16. 다크 매터\" )',\n",
       " '\\tcall Preload( \"17. 천류의 창 아글라이아\" )',\n",
       " '\\tcall Preload( \"18. 대지의 갑주\" )',\n",
       " '\\tcall Preload( \"19. 폭풍의 반지\" )',\n",
       " '\\tcall Preload( \"20. 바람의 조각\" )',\n",
       " '\\tcall Preload( \"21. 낡은 유적의 조각\" )',\n",
       " '\\tcall Preload( \"22. 불로의 심장\" )',\n",
       " '\\tcall Preload( \"23. 빛의 결정\" )',\n",
       " '\\tcall Preload( \"24. 다크 크리스탈\" )',\n",
       " '\\tcall Preload( \"----------창고----------\" )',\n",
       " '\\tcall Preload( \"---------------------------------------\" )',\n",
       " '\\tcall Preload( \"로드 코드 1: -load PZWADswNzfUjFF6zBzNy@q1O%fxO6jso3QOMaK3hYXKu75kOFFwq$36nn01C3$FTNkad81sTa86%KKgb%sV\" )',\n",
       " '\\tcall PreloadEnd( 0.0 )',\n",
       " 'endfunction',\n",
       " '']"
      ]
     },
     "execution_count": 72,
     "metadata": {},
     "output_type": "execute_result"
    }
   ],
   "source": [
    "m.split(\"\\n\")"
   ]
  },
  {
   "cell_type": "code",
   "execution_count": 43,
   "metadata": {},
   "outputs": [
    {
     "data": {
      "text/plain": [
       "['function PreloadFiles takes nothing returns nothing',\n",
       " '\\tcall Preload( \"---------------------------------------\" )',\n",
       " '\\tcall Preload( \"아이디: hydran1\" )',\n",
       " '\\tcall Preload( \"플레이 버전: 0.31g Lazy fix1\" )',\n",
       " '\\tcall Preload( \"호환되는 버전: 0.24c~\" )',\n",
       " '\\tcall Preload( \"직업: 랜서\" )',\n",
       " '\\tcall Preload( \"레벨: 420\" )',\n",
       " '\\tcall Preload( \"현재 경험치 / 다음 레벨까지의 경험치: 8840900 / 8883000\" )',\n",
       " '\\tcall Preload( \"----------영웅 아이템----------\" )',\n",
       " '\\tcall Preload( \"1. 천지창조\" )',\n",
       " '\\tcall Preload( \"2. 번개의 창 티베리우스\" )',\n",
       " '\\tcall Preload( \"3. 타락한 불꽃의 망토\" )',\n",
       " '\\tcall Preload( \"4. 악마의 뿔\" )',\n",
       " '\\tcall Preload( \"5. 혼돈의 반지 라테아\" )',\n",
       " '\\tcall Preload( \"----------배낭----------\" )',\n",
       " '\\tcall Preload( \"1. 다크 매터\" )',\n",
       " '\\tcall Preload( \"2. 봉인된 대천사의 날개\" )',\n",
       " '\\tcall Preload( \"3. 천사의 깃털 결정\" )',\n",
       " '\\tcall Preload( \"4. 탄식의 갑주 레퀴엠\" )',\n",
       " '\\tcall Preload( \"5. 정화의 증표\" )',\n",
       " '\\tcall Preload( \"6. 순수의 강철\" )',\n",
       " '\\tcall Preload( \"7. 아다만티움\" )',\n",
       " '\\tcall Preload( \"8. 신의 금속\" )',\n",
       " '\\tcall Preload( \"9. 악몽의 기운\" )',\n",
       " '\\tcall Preload( \"10. 타락의 포션\" )',\n",
       " '\\tcall Preload( \"11. 슬레이어 부츠\" )',\n",
       " '\\tcall Preload( \"12. 순수의 강철\" )',\n",
       " '\\tcall Preload( \"13. 다크 크리스탈\" )',\n",
       " '\\tcall Preload( \"14. 플레임샤드 아머\" )',\n",
       " '\\tcall Preload( \"15. 백작의 낡은 망토\" )',\n",
       " '\\tcall Preload( \"16. 다크 매터\" )',\n",
       " '\\tcall Preload( \"17. 천류의 창 아글라이아\" )',\n",
       " '\\tcall Preload( \"18. 대지의 갑주\" )',\n",
       " '\\tcall Preload( \"19. 폭풍의 반지\" )',\n",
       " '\\tcall Preload( \"20. 바람의 조각\" )',\n",
       " '\\tcall Preload( \"21. 낡은 유적의 조각\" )',\n",
       " '\\tcall Preload( \"22. 불로의 심장\" )',\n",
       " '\\tcall Preload( \"23. 빛의 결정\" )',\n",
       " '\\tcall Preload( \"24. 다크 크리스탈\" )',\n",
       " '\\tcall Preload( \"----------창고----------\" )',\n",
       " '\\tcall Preload( \"---------------------------------------\" )',\n",
       " '\\tcall Preload( \"로드 코드 1: -load PZWADswNzfUjFF6zBzNy@q1O%fxO6jso3QOMaK3hYXKu75kOFFwq$36nn01C3$FTNkad81sTa86%KKgb%sV\" )',\n",
       " '\\tcall PreloadEnd( 0.0 )',\n",
       " 'endfunction',\n",
       " '',\n",
       " '']"
      ]
     },
     "execution_count": 43,
     "metadata": {},
     "output_type": "execute_result"
    }
   ],
   "source": [
    "saveFile.replace('\\n\\n', '\\n').split('\\n')"
   ]
  },
  {
   "cell_type": "markdown",
   "metadata": {},
   "source": [
    "## 제대로된것"
   ]
  },
  {
   "cell_type": "code",
   "execution_count": 74,
   "metadata": {},
   "outputs": [
    {
     "data": {
      "text/plain": [
       "['---------------------------------------',\n",
       " '아이디: hydran1',\n",
       " '플레이 버전: 0.31g Lazy fix1',\n",
       " '호환되는 버전: 0.24c~',\n",
       " '직업: 랜서',\n",
       " '레벨: 420',\n",
       " '현재 경험치 / 다음 레벨까지의 경험치: 8840900 / 8883000',\n",
       " '----------영웅 아이템----------',\n",
       " '1. 천지창조',\n",
       " '2. 번개의 창 티베리우스',\n",
       " '3. 타락한 불꽃의 망토',\n",
       " '4. 악마의 뿔',\n",
       " '5. 혼돈의 반지 라테아',\n",
       " '----------배낭----------',\n",
       " '1. 다크 매터',\n",
       " '2. 봉인된 대천사의 날개',\n",
       " '3. 천사의 깃털 결정',\n",
       " '4. 탄식의 갑주 레퀴엠',\n",
       " '5. 정화의 증표',\n",
       " '6. 순수의 강철',\n",
       " '7. 아다만티움',\n",
       " '8. 신의 금속',\n",
       " '9. 악몽의 기운',\n",
       " '10. 타락의 포션',\n",
       " '11. 슬레이어 부츠',\n",
       " '12. 순수의 강철',\n",
       " '13. 다크 크리스탈',\n",
       " '14. 플레임샤드 아머',\n",
       " '15. 백작의 낡은 망토',\n",
       " '16. 다크 매터',\n",
       " '17. 천류의 창 아글라이아',\n",
       " '18. 대지의 갑주',\n",
       " '19. 폭풍의 반지',\n",
       " '20. 바람의 조각',\n",
       " '21. 낡은 유적의 조각',\n",
       " '22. 불로의 심장',\n",
       " '23. 빛의 결정',\n",
       " '24. 다크 크리스탈',\n",
       " '----------창고----------',\n",
       " '---------------------------------------',\n",
       " '로드 코드 1: -load PZWADswNzfUjFF6zBzNy@q1O%fxO6jso3QOMaK3hYXKu75kOFFwq$36nn01C3$FTNkad81sTa86%KKgb%sV']"
      ]
     },
     "execution_count": 74,
     "metadata": {},
     "output_type": "execute_result"
    }
   ],
   "source": [
    "re.findall('\"(.*)\"', saveFile)"
   ]
  }
 ],
 "metadata": {
  "kernelspec": {
   "display_name": "Python 3",
   "language": "python",
   "name": "python3"
  },
  "language_info": {
   "codemirror_mode": {
    "name": "ipython",
    "version": 3
   },
   "file_extension": ".py",
   "mimetype": "text/x-python",
   "name": "python",
   "nbconvert_exporter": "python",
   "pygments_lexer": "ipython3",
   "version": "3.7.6"
  }
 },
 "nbformat": 4,
 "nbformat_minor": 4
}
